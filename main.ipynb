{
 "cells": [
  {
   "cell_type": "code",
   "execution_count": 41,
   "metadata": {},
   "outputs": [],
   "source": [
    "import pandas as pd\n",
    "import numpy as np\n",
    "import seaborn as sns\n",
    "import requests\n",
    "from bs4 import BeautifulSoup as bs\n",
    "import matplotlib.pyplot as plt\n",
    "from konlpy.tag import Kkma\n",
    "import urllib.request\n",
    "from gensim.models.word2vec import Word2Vec\n",
    "from konlpy.tag import Okt\n",
    "from tqdm import tqdm"
   ]
  },
  {
   "attachments": {},
   "cell_type": "markdown",
   "metadata": {},
   "source": [
    "## 데이터 탐색"
   ]
  },
  {
   "cell_type": "code",
   "execution_count": 2,
   "metadata": {},
   "outputs": [
    {
     "data": {
      "text/html": [
       "<div>\n",
       "<style scoped>\n",
       "    .dataframe tbody tr th:only-of-type {\n",
       "        vertical-align: middle;\n",
       "    }\n",
       "\n",
       "    .dataframe tbody tr th {\n",
       "        vertical-align: top;\n",
       "    }\n",
       "\n",
       "    .dataframe thead th {\n",
       "        text-align: right;\n",
       "    }\n",
       "</style>\n",
       "<table border=\"1\" class=\"dataframe\">\n",
       "  <thead>\n",
       "    <tr style=\"text-align: right;\">\n",
       "      <th></th>\n",
       "      <th>0</th>\n",
       "    </tr>\n",
       "  </thead>\n",
       "  <tbody>\n",
       "    <tr>\n",
       "      <th>0</th>\n",
       "      <td>은평구, 반려동물 문화교실 '댕댕이 스쿨' 운영</td>\n",
       "    </tr>\n",
       "    <tr>\n",
       "      <th>1</th>\n",
       "      <td>새해부터 반려동물 미용사·나무의사도 신중년 고용장려금 받는다</td>\n",
       "    </tr>\n",
       "    <tr>\n",
       "      <th>2</th>\n",
       "      <td>반려식물로 코로나 우울 해소</td>\n",
       "    </tr>\n",
       "    <tr>\n",
       "      <th>3</th>\n",
       "      <td>“우리 아이와 반려동물, 함께 생활해도 괜찮을까?”</td>\n",
       "    </tr>\n",
       "    <tr>\n",
       "      <th>4</th>\n",
       "      <td>[영상]반려동물 식품의 세계화 \"정부지원 받아 글로벌기업으로 우뚝\"</td>\n",
       "    </tr>\n",
       "    <tr>\n",
       "      <th>5</th>\n",
       "      <td>배스 사들여 반려동물식품 제조…빈집 고쳐 장기거주 사회주택 제공</td>\n",
       "    </tr>\n",
       "    <tr>\n",
       "      <th>6</th>\n",
       "      <td>반려동물도 코로나블루? 쿠쿠전자 넬로, 팻케어 제품 수요 증가</td>\n",
       "    </tr>\n",
       "    <tr>\n",
       "      <th>7</th>\n",
       "      <td>2021년부터 동물보호법 상 맹견은 책임보험 의무화</td>\n",
       "    </tr>\n",
       "    <tr>\n",
       "      <th>8</th>\n",
       "      <td>[웰컴 투 펫팸] 반려동물도 쇼크로 쓰러진다</td>\n",
       "    </tr>\n",
       "    <tr>\n",
       "      <th>9</th>\n",
       "      <td>지솔펫, 반려동물을 위한 살균·소독·향균 탈취제 선보여</td>\n",
       "    </tr>\n",
       "  </tbody>\n",
       "</table>\n",
       "</div>"
      ],
      "text/plain": [
       "                                       0\n",
       "0             은평구, 반려동물 문화교실 '댕댕이 스쿨' 운영\n",
       "1      새해부터 반려동물 미용사·나무의사도 신중년 고용장려금 받는다\n",
       "2                        반려식물로 코로나 우울 해소\n",
       "3           “우리 아이와 반려동물, 함께 생활해도 괜찮을까?”\n",
       "4  [영상]반려동물 식품의 세계화 \"정부지원 받아 글로벌기업으로 우뚝\"\n",
       "5    배스 사들여 반려동물식품 제조…빈집 고쳐 장기거주 사회주택 제공\n",
       "6     반려동물도 코로나블루? 쿠쿠전자 넬로, 팻케어 제품 수요 증가\n",
       "7           2021년부터 동물보호법 상 맹견은 책임보험 의무화\n",
       "8               [웰컴 투 펫팸] 반려동물도 쇼크로 쓰러진다\n",
       "9         지솔펫, 반려동물을 위한 살균·소독·향균 탈취제 선보여"
      ]
     },
     "execution_count": 2,
     "metadata": {},
     "output_type": "execute_result"
    }
   ],
   "source": [
    "news1 = pd.read_csv(\"data/2020.01.01_2020.12.31_1.csv\")\n",
    "news1.head(10)"
   ]
  },
  {
   "cell_type": "code",
   "execution_count": 3,
   "metadata": {},
   "outputs": [
    {
     "data": {
      "text/html": [
       "<div>\n",
       "<style scoped>\n",
       "    .dataframe tbody tr th:only-of-type {\n",
       "        vertical-align: middle;\n",
       "    }\n",
       "\n",
       "    .dataframe tbody tr th {\n",
       "        vertical-align: top;\n",
       "    }\n",
       "\n",
       "    .dataframe thead th {\n",
       "        text-align: right;\n",
       "    }\n",
       "</style>\n",
       "<table border=\"1\" class=\"dataframe\">\n",
       "  <thead>\n",
       "    <tr style=\"text-align: right;\">\n",
       "      <th></th>\n",
       "      <th>0</th>\n",
       "    </tr>\n",
       "  </thead>\n",
       "  <tbody>\n",
       "    <tr>\n",
       "      <th>0</th>\n",
       "      <td>이재명 코로나 거점 전담병원 방문…‘반려동물’ 유튜브 출연</td>\n",
       "    </tr>\n",
       "    <tr>\n",
       "      <th>1</th>\n",
       "      <td>반려동물 함께 즐기는 스타벅스 더북한강R 점 오픈</td>\n",
       "    </tr>\n",
       "    <tr>\n",
       "      <th>2</th>\n",
       "      <td>잔인한 방법으로 개 도살, 허가 없이 번식도…동물 학대 적발</td>\n",
       "    </tr>\n",
       "    <tr>\n",
       "      <th>3</th>\n",
       "      <td>반려동물도 코로나 감염…\"확진자 재택치료시 분리해야\"</td>\n",
       "    </tr>\n",
       "    <tr>\n",
       "      <th>4</th>\n",
       "      <td>올해 최다 이용 반려동물 앱 1위는 펫프렌즈</td>\n",
       "    </tr>\n",
       "    <tr>\n",
       "      <th>5</th>\n",
       "      <td>반려동물은 제2의 고객… 펫팸족 공략나선 LCC</td>\n",
       "    </tr>\n",
       "    <tr>\n",
       "      <th>6</th>\n",
       "      <td>‘면적 제한 폐지’ 농지원부 작성 의무화... 동물보건사 자격제도 시행</td>\n",
       "    </tr>\n",
       "    <tr>\n",
       "      <th>7</th>\n",
       "      <td>울산 남구, 반려동물정책계·치매관리계 신설…조직개편 단행</td>\n",
       "    </tr>\n",
       "    <tr>\n",
       "      <th>8</th>\n",
       "      <td>허은아 \"이재명, 반려견 '이행복'은 어디에..동물에 대한 애정 없어\"</td>\n",
       "    </tr>\n",
       "    <tr>\n",
       "      <th>9</th>\n",
       "      <td>스파이더맨 보러 간 영화관 팝콘 속에서 나온 '햄스터' 반려동물로 입양한 소...</td>\n",
       "    </tr>\n",
       "  </tbody>\n",
       "</table>\n",
       "</div>"
      ],
      "text/plain": [
       "                                               0\n",
       "0               이재명 코로나 거점 전담병원 방문…‘반려동물’ 유튜브 출연\n",
       "1                    반려동물 함께 즐기는 스타벅스 더북한강R 점 오픈\n",
       "2              잔인한 방법으로 개 도살, 허가 없이 번식도…동물 학대 적발\n",
       "3                  반려동물도 코로나 감염…\"확진자 재택치료시 분리해야\"\n",
       "4                       올해 최다 이용 반려동물 앱 1위는 펫프렌즈\n",
       "5                     반려동물은 제2의 고객… 펫팸족 공략나선 LCC\n",
       "6        ‘면적 제한 폐지’ 농지원부 작성 의무화... 동물보건사 자격제도 시행\n",
       "7                울산 남구, 반려동물정책계·치매관리계 신설…조직개편 단행\n",
       "8        허은아 \"이재명, 반려견 '이행복'은 어디에..동물에 대한 애정 없어\"\n",
       "9  스파이더맨 보러 간 영화관 팝콘 속에서 나온 '햄스터' 반려동물로 입양한 소..."
      ]
     },
     "execution_count": 3,
     "metadata": {},
     "output_type": "execute_result"
    }
   ],
   "source": [
    "news2 = pd.read_csv(\"data/2021.01.01_2021.12.31_1.csv\")\n",
    "news2.head(10)"
   ]
  },
  {
   "cell_type": "code",
   "execution_count": 4,
   "metadata": {},
   "outputs": [
    {
     "data": {
      "text/html": [
       "<div>\n",
       "<style scoped>\n",
       "    .dataframe tbody tr th:only-of-type {\n",
       "        vertical-align: middle;\n",
       "    }\n",
       "\n",
       "    .dataframe tbody tr th {\n",
       "        vertical-align: top;\n",
       "    }\n",
       "\n",
       "    .dataframe thead th {\n",
       "        text-align: right;\n",
       "    }\n",
       "</style>\n",
       "<table border=\"1\" class=\"dataframe\">\n",
       "  <thead>\n",
       "    <tr style=\"text-align: right;\">\n",
       "      <th></th>\n",
       "      <th>0</th>\n",
       "    </tr>\n",
       "  </thead>\n",
       "  <tbody>\n",
       "    <tr>\n",
       "      <th>0</th>\n",
       "      <td>尹대통령, 은퇴 안내견 입양…관저에 11번째 동물 식구(종합)</td>\n",
       "    </tr>\n",
       "    <tr>\n",
       "      <th>1</th>\n",
       "      <td>윤 대통령 부부, 은퇴 안내견 '새롬이' 입양… 11번째 반려동물</td>\n",
       "    </tr>\n",
       "    <tr>\n",
       "      <th>2</th>\n",
       "      <td>[영상]부산 1호 반려동물 테마파크...주민들이 반대하는 이유</td>\n",
       "    </tr>\n",
       "    <tr>\n",
       "      <th>3</th>\n",
       "      <td>[정치톡톡] 정치권 성탄 메시지 / '민주당의 길' 출범 / 대통령 11번째 반려동...</td>\n",
       "    </tr>\n",
       "    <tr>\n",
       "      <th>4</th>\n",
       "      <td>'동물복지 조례·보호센터 직영 운영'…사람과 동물이 행복한 고양시</td>\n",
       "    </tr>\n",
       "    <tr>\n",
       "      <th>5</th>\n",
       "      <td>'TV동물농장' 뒷다리 마비 웰시코기 '장수'</td>\n",
       "    </tr>\n",
       "    <tr>\n",
       "      <th>6</th>\n",
       "      <td>경기도반려동물테마파크의 배신?… 지원시설 빼고 추모관뿐</td>\n",
       "    </tr>\n",
       "    <tr>\n",
       "      <th>7</th>\n",
       "      <td>볼보자동차, 서울시에 반려동물 물품 5천만원 상당 기부</td>\n",
       "    </tr>\n",
       "    <tr>\n",
       "      <th>8</th>\n",
       "      <td>서울시, 반려동물 '사료검정기관' 지정…전국 지자체 중 최초</td>\n",
       "    </tr>\n",
       "    <tr>\n",
       "      <th>9</th>\n",
       "      <td>삶이 위태로운 야생동물의 똥이 우리에게 하는 말 [반려인의 오후]</td>\n",
       "    </tr>\n",
       "  </tbody>\n",
       "</table>\n",
       "</div>"
      ],
      "text/plain": [
       "                                                   0\n",
       "0                 尹대통령, 은퇴 안내견 입양…관저에 11번째 동물 식구(종합)\n",
       "1               윤 대통령 부부, 은퇴 안내견 '새롬이' 입양… 11번째 반려동물\n",
       "2                 [영상]부산 1호 반려동물 테마파크...주민들이 반대하는 이유\n",
       "3  [정치톡톡] 정치권 성탄 메시지 / '민주당의 길' 출범 / 대통령 11번째 반려동...\n",
       "4               '동물복지 조례·보호센터 직영 운영'…사람과 동물이 행복한 고양시\n",
       "5                          'TV동물농장' 뒷다리 마비 웰시코기 '장수'\n",
       "6                     경기도반려동물테마파크의 배신?… 지원시설 빼고 추모관뿐\n",
       "7                     볼보자동차, 서울시에 반려동물 물품 5천만원 상당 기부\n",
       "8                  서울시, 반려동물 '사료검정기관' 지정…전국 지자체 중 최초\n",
       "9               삶이 위태로운 야생동물의 똥이 우리에게 하는 말 [반려인의 오후]"
      ]
     },
     "execution_count": 4,
     "metadata": {},
     "output_type": "execute_result"
    }
   ],
   "source": [
    "news3 = pd.read_csv(\"data/2022.01.01_2022.12.25_1.csv\")\n",
    "news3.head(10)"
   ]
  },
  {
   "cell_type": "code",
   "execution_count": 5,
   "metadata": {},
   "outputs": [
    {
     "data": {
      "text/html": [
       "<div>\n",
       "<style scoped>\n",
       "    .dataframe tbody tr th:only-of-type {\n",
       "        vertical-align: middle;\n",
       "    }\n",
       "\n",
       "    .dataframe tbody tr th {\n",
       "        vertical-align: top;\n",
       "    }\n",
       "\n",
       "    .dataframe thead th {\n",
       "        text-align: right;\n",
       "    }\n",
       "</style>\n",
       "<table border=\"1\" class=\"dataframe\">\n",
       "  <thead>\n",
       "    <tr style=\"text-align: right;\">\n",
       "      <th></th>\n",
       "      <th>대표도면</th>\n",
       "      <th>출원번호</th>\n",
       "      <th>발명의명칭</th>\n",
       "      <th>발명의명칭(영문)</th>\n",
       "      <th>상태</th>\n",
       "      <th>IPC분류</th>\n",
       "      <th>출원인</th>\n",
       "      <th>대리인</th>\n",
       "      <th>발명자</th>\n",
       "      <th>출원일자</th>\n",
       "      <th>등록번호</th>\n",
       "      <th>등록일자</th>\n",
       "      <th>공개번호</th>\n",
       "      <th>공개일자</th>\n",
       "    </tr>\n",
       "  </thead>\n",
       "  <tbody>\n",
       "    <tr>\n",
       "      <th>0</th>\n",
       "      <td>NaN</td>\n",
       "      <td>1020210147821</td>\n",
       "      <td>반려동물용 항산화 보조제 및 그 제조 방법(antioxidant supplement...</td>\n",
       "      <td>antioxidant supplements for companion animal a...</td>\n",
       "      <td>등록</td>\n",
       "      <td>A23K 20/10|A23K 50/40|A61K 9/48|A23K 20/158|A2...</td>\n",
       "      <td>(주)한국반려동물영양연구소</td>\n",
       "      <td>문춘오</td>\n",
       "      <td>정설령</td>\n",
       "      <td>2021.11.01</td>\n",
       "      <td>1.024582e+12</td>\n",
       "      <td>2022.10.19</td>\n",
       "      <td>NaN</td>\n",
       "      <td>NaN</td>\n",
       "    </tr>\n",
       "    <tr>\n",
       "      <th>1</th>\n",
       "      <td>NaN</td>\n",
       "      <td>1020190100688</td>\n",
       "      <td>스마트폰을 이용한 반려동물 미용샵 예약관리 시스템 및 방법(RESERVATION S...</td>\n",
       "      <td>RESERVATION SYSTEM AND METHOD FOR A PET BEAUTY...</td>\n",
       "      <td>거절</td>\n",
       "      <td>G06Q 50/10|G06Q 10/02|G06Q 30/02|G06Q 50/30|G0...</td>\n",
       "      <td>주식회사 펫미</td>\n",
       "      <td>우정연</td>\n",
       "      <td>백영호</td>\n",
       "      <td>2019.08.18</td>\n",
       "      <td>NaN</td>\n",
       "      <td>NaN</td>\n",
       "      <td>1.020210e+12</td>\n",
       "      <td>2021.02.26</td>\n",
       "    </tr>\n",
       "    <tr>\n",
       "      <th>2</th>\n",
       "      <td>NaN</td>\n",
       "      <td>1020200081386</td>\n",
       "      <td>반려동물의 3D 복원 및 감정 분석을 통한 컨텐츠 제공 서버, 사용자 단말 및 그 ...</td>\n",
       "      <td>SERVER AND USER EQUIPMENT FOR PROVIDING CONTEN...</td>\n",
       "      <td>등록</td>\n",
       "      <td>G06T 7/55|G06T 7/194|G06T 13/40|G06T 11/60|G06...</td>\n",
       "      <td>주식회사 엘지유플러스</td>\n",
       "      <td>특허법인 무한</td>\n",
       "      <td>유한규</td>\n",
       "      <td>2020.07.02</td>\n",
       "      <td>1.024808e+12</td>\n",
       "      <td>2022.12.20</td>\n",
       "      <td>1.020220e+12</td>\n",
       "      <td>2022.01.11</td>\n",
       "    </tr>\n",
       "    <tr>\n",
       "      <th>3</th>\n",
       "      <td>NaN</td>\n",
       "      <td>1020210044524</td>\n",
       "      <td>딥러닝을 이용한 반려동물 질환 추론 모듈 및 전자 장치(A method and el...</td>\n",
       "      <td>A method and electronic device for distinguish...</td>\n",
       "      <td>공개</td>\n",
       "      <td>G16H 50/70|G16H 50/20|G16H 30/40|G16H 30/20|G0...</td>\n",
       "      <td>주식회사 알파도</td>\n",
       "      <td>박수영</td>\n",
       "      <td>지영호</td>\n",
       "      <td>2021.04.06</td>\n",
       "      <td>NaN</td>\n",
       "      <td>NaN</td>\n",
       "      <td>1.020220e+12</td>\n",
       "      <td>2022.10.14</td>\n",
       "    </tr>\n",
       "    <tr>\n",
       "      <th>4</th>\n",
       "      <td>NaN</td>\n",
       "      <td>1020220060339</td>\n",
       "      <td>스마트 반려동물 배변패드 처리장치(Smart companion animal defe...</td>\n",
       "      <td>Smart companion animal defecation pad disposal...</td>\n",
       "      <td>등록</td>\n",
       "      <td>A01K 1/01|A01K 23/00</td>\n",
       "      <td>충북대학교 산학협력단</td>\n",
       "      <td>김정현</td>\n",
       "      <td>이아연|구승회</td>\n",
       "      <td>2022.05.17</td>\n",
       "      <td>1.024807e+12</td>\n",
       "      <td>2022.12.20</td>\n",
       "      <td>NaN</td>\n",
       "      <td>NaN</td>\n",
       "    </tr>\n",
       "  </tbody>\n",
       "</table>\n",
       "</div>"
      ],
      "text/plain": [
       "   대표도면           출원번호                                              발명의명칭  \\\n",
       "0   NaN  1020210147821  반려동물용 항산화 보조제 및 그 제조 방법(antioxidant supplement...   \n",
       "1   NaN  1020190100688  스마트폰을 이용한 반려동물 미용샵 예약관리 시스템 및 방법(RESERVATION S...   \n",
       "2   NaN  1020200081386  반려동물의 3D 복원 및 감정 분석을 통한 컨텐츠 제공 서버, 사용자 단말 및 그 ...   \n",
       "3   NaN  1020210044524  딥러닝을 이용한 반려동물 질환 추론 모듈 및 전자 장치(A method and el...   \n",
       "4   NaN  1020220060339  스마트 반려동물 배변패드 처리장치(Smart companion animal defe...   \n",
       "\n",
       "                                           발명의명칭(영문)  상태  \\\n",
       "0  antioxidant supplements for companion animal a...  등록   \n",
       "1  RESERVATION SYSTEM AND METHOD FOR A PET BEAUTY...  거절   \n",
       "2  SERVER AND USER EQUIPMENT FOR PROVIDING CONTEN...  등록   \n",
       "3  A method and electronic device for distinguish...  공개   \n",
       "4  Smart companion animal defecation pad disposal...  등록   \n",
       "\n",
       "                                               IPC분류             출원인      대리인  \\\n",
       "0  A23K 20/10|A23K 50/40|A61K 9/48|A23K 20/158|A2...  (주)한국반려동물영양연구소      문춘오   \n",
       "1  G06Q 50/10|G06Q 10/02|G06Q 30/02|G06Q 50/30|G0...         주식회사 펫미      우정연   \n",
       "2  G06T 7/55|G06T 7/194|G06T 13/40|G06T 11/60|G06...     주식회사 엘지유플러스  특허법인 무한   \n",
       "3  G16H 50/70|G16H 50/20|G16H 30/40|G16H 30/20|G0...        주식회사 알파도      박수영   \n",
       "4                               A01K 1/01|A01K 23/00     충북대학교 산학협력단      김정현   \n",
       "\n",
       "       발명자        출원일자          등록번호        등록일자          공개번호        공개일자  \n",
       "0      정설령  2021.11.01  1.024582e+12  2022.10.19           NaN         NaN  \n",
       "1      백영호  2019.08.18           NaN         NaN  1.020210e+12  2021.02.26  \n",
       "2      유한규  2020.07.02  1.024808e+12  2022.12.20  1.020220e+12  2022.01.11  \n",
       "3      지영호  2021.04.06           NaN         NaN  1.020220e+12  2022.10.14  \n",
       "4  이아연|구승회  2022.05.17  1.024807e+12  2022.12.20           NaN         NaN  "
      ]
     },
     "execution_count": 5,
     "metadata": {},
     "output_type": "execute_result"
    }
   ],
   "source": [
    "kipris = pd.read_csv(\"data/kipris.csv\")\n",
    "kipris.head(5)"
   ]
  },
  {
   "cell_type": "code",
   "execution_count": 6,
   "metadata": {},
   "outputs": [
    {
     "data": {
      "text/plain": [
       "((4000, 1), (4000, 1), (4000, 1), (7481, 14))"
      ]
     },
     "execution_count": 6,
     "metadata": {},
     "output_type": "execute_result"
    }
   ],
   "source": [
    "news1.shape, news2.shape, news3.shape, kipris.shape"
   ]
  },
  {
   "cell_type": "code",
   "execution_count": 7,
   "metadata": {},
   "outputs": [
    {
     "data": {
      "text/html": [
       "<div>\n",
       "<style scoped>\n",
       "    .dataframe tbody tr th:only-of-type {\n",
       "        vertical-align: middle;\n",
       "    }\n",
       "\n",
       "    .dataframe tbody tr th {\n",
       "        vertical-align: top;\n",
       "    }\n",
       "\n",
       "    .dataframe thead th {\n",
       "        text-align: right;\n",
       "    }\n",
       "</style>\n",
       "<table border=\"1\" class=\"dataframe\">\n",
       "  <thead>\n",
       "    <tr style=\"text-align: right;\">\n",
       "      <th></th>\n",
       "      <th>0</th>\n",
       "    </tr>\n",
       "  </thead>\n",
       "  <tbody>\n",
       "    <tr>\n",
       "      <th>count</th>\n",
       "      <td>4000</td>\n",
       "    </tr>\n",
       "    <tr>\n",
       "      <th>unique</th>\n",
       "      <td>2850</td>\n",
       "    </tr>\n",
       "    <tr>\n",
       "      <th>top</th>\n",
       "      <td>반려동물과 오랫동안 행복하게! '화묘도 花猫圖 꽃과 고양이 그림 달력' 텀블...</td>\n",
       "    </tr>\n",
       "    <tr>\n",
       "      <th>freq</th>\n",
       "      <td>8</td>\n",
       "    </tr>\n",
       "  </tbody>\n",
       "</table>\n",
       "</div>"
      ],
      "text/plain": [
       "                                                    0\n",
       "count                                            4000\n",
       "unique                                           2850\n",
       "top     반려동물과 오랫동안 행복하게! '화묘도 花猫圖 꽃과 고양이 그림 달력' 텀블...\n",
       "freq                                                8"
      ]
     },
     "execution_count": 7,
     "metadata": {},
     "output_type": "execute_result"
    }
   ],
   "source": [
    "news1.describe()"
   ]
  },
  {
   "cell_type": "code",
   "execution_count": 8,
   "metadata": {},
   "outputs": [
    {
     "data": {
      "text/html": [
       "<div>\n",
       "<style scoped>\n",
       "    .dataframe tbody tr th:only-of-type {\n",
       "        vertical-align: middle;\n",
       "    }\n",
       "\n",
       "    .dataframe tbody tr th {\n",
       "        vertical-align: top;\n",
       "    }\n",
       "\n",
       "    .dataframe thead th {\n",
       "        text-align: right;\n",
       "    }\n",
       "</style>\n",
       "<table border=\"1\" class=\"dataframe\">\n",
       "  <thead>\n",
       "    <tr style=\"text-align: right;\">\n",
       "      <th></th>\n",
       "      <th>0</th>\n",
       "    </tr>\n",
       "  </thead>\n",
       "  <tbody>\n",
       "    <tr>\n",
       "      <th>count</th>\n",
       "      <td>4000</td>\n",
       "    </tr>\n",
       "    <tr>\n",
       "      <th>unique</th>\n",
       "      <td>2816</td>\n",
       "    </tr>\n",
       "    <tr>\n",
       "      <th>top</th>\n",
       "      <td>JW생활건강, 반려동물 영양제 브랜드 '라보펫' 론칭</td>\n",
       "    </tr>\n",
       "    <tr>\n",
       "      <th>freq</th>\n",
       "      <td>12</td>\n",
       "    </tr>\n",
       "  </tbody>\n",
       "</table>\n",
       "</div>"
      ],
      "text/plain": [
       "                                    0\n",
       "count                            4000\n",
       "unique                           2816\n",
       "top     JW생활건강, 반려동물 영양제 브랜드 '라보펫' 론칭\n",
       "freq                               12"
      ]
     },
     "execution_count": 8,
     "metadata": {},
     "output_type": "execute_result"
    }
   ],
   "source": [
    "news2.describe()"
   ]
  },
  {
   "cell_type": "code",
   "execution_count": 9,
   "metadata": {},
   "outputs": [
    {
     "data": {
      "text/html": [
       "<div>\n",
       "<style scoped>\n",
       "    .dataframe tbody tr th:only-of-type {\n",
       "        vertical-align: middle;\n",
       "    }\n",
       "\n",
       "    .dataframe tbody tr th {\n",
       "        vertical-align: top;\n",
       "    }\n",
       "\n",
       "    .dataframe thead th {\n",
       "        text-align: right;\n",
       "    }\n",
       "</style>\n",
       "<table border=\"1\" class=\"dataframe\">\n",
       "  <thead>\n",
       "    <tr style=\"text-align: right;\">\n",
       "      <th></th>\n",
       "      <th>0</th>\n",
       "    </tr>\n",
       "  </thead>\n",
       "  <tbody>\n",
       "    <tr>\n",
       "      <th>count</th>\n",
       "      <td>4000</td>\n",
       "    </tr>\n",
       "    <tr>\n",
       "      <th>unique</th>\n",
       "      <td>2852</td>\n",
       "    </tr>\n",
       "    <tr>\n",
       "      <th>top</th>\n",
       "      <td>우리은행, 반려동물 콘테스트 개최</td>\n",
       "    </tr>\n",
       "    <tr>\n",
       "      <th>freq</th>\n",
       "      <td>14</td>\n",
       "    </tr>\n",
       "  </tbody>\n",
       "</table>\n",
       "</div>"
      ],
      "text/plain": [
       "                         0\n",
       "count                 4000\n",
       "unique                2852\n",
       "top     우리은행, 반려동물 콘테스트 개최\n",
       "freq                    14"
      ]
     },
     "execution_count": 9,
     "metadata": {},
     "output_type": "execute_result"
    }
   ],
   "source": [
    "news3.describe()"
   ]
  },
  {
   "cell_type": "code",
   "execution_count": 10,
   "metadata": {},
   "outputs": [
    {
     "data": {
      "text/html": [
       "<div>\n",
       "<style scoped>\n",
       "    .dataframe tbody tr th:only-of-type {\n",
       "        vertical-align: middle;\n",
       "    }\n",
       "\n",
       "    .dataframe tbody tr th {\n",
       "        vertical-align: top;\n",
       "    }\n",
       "\n",
       "    .dataframe thead th {\n",
       "        text-align: right;\n",
       "    }\n",
       "</style>\n",
       "<table border=\"1\" class=\"dataframe\">\n",
       "  <thead>\n",
       "    <tr style=\"text-align: right;\">\n",
       "      <th></th>\n",
       "      <th>발명의명칭</th>\n",
       "      <th>발명의명칭(영문)</th>\n",
       "      <th>상태</th>\n",
       "      <th>IPC분류</th>\n",
       "      <th>출원인</th>\n",
       "      <th>대리인</th>\n",
       "      <th>발명자</th>\n",
       "      <th>출원일자</th>\n",
       "      <th>등록일자</th>\n",
       "      <th>공개일자</th>\n",
       "    </tr>\n",
       "  </thead>\n",
       "  <tbody>\n",
       "    <tr>\n",
       "      <th>count</th>\n",
       "      <td>7481</td>\n",
       "      <td>7469</td>\n",
       "      <td>7481</td>\n",
       "      <td>7481</td>\n",
       "      <td>7481</td>\n",
       "      <td>6971</td>\n",
       "      <td>7481</td>\n",
       "      <td>7481</td>\n",
       "      <td>3140</td>\n",
       "      <td>6361</td>\n",
       "    </tr>\n",
       "    <tr>\n",
       "      <th>unique</th>\n",
       "      <td>6641</td>\n",
       "      <td>6467</td>\n",
       "      <td>6</td>\n",
       "      <td>6330</td>\n",
       "      <td>4001</td>\n",
       "      <td>1065</td>\n",
       "      <td>5806</td>\n",
       "      <td>2813</td>\n",
       "      <td>1603</td>\n",
       "      <td>2365</td>\n",
       "    </tr>\n",
       "    <tr>\n",
       "      <th>top</th>\n",
       "      <td>반려동물 급수기(Water supply device for pets)</td>\n",
       "      <td>Water supply device for pets</td>\n",
       "      <td>등록</td>\n",
       "      <td>A01K 15/02</td>\n",
       "      <td>엘지전자 주식회사</td>\n",
       "      <td>양영준|김영</td>\n",
       "      <td>유현선|김성경|김주겸|전재흥</td>\n",
       "      <td>2021.02.06</td>\n",
       "      <td>2018.08.02</td>\n",
       "      <td>2020.03.27</td>\n",
       "    </tr>\n",
       "    <tr>\n",
       "      <th>freq</th>\n",
       "      <td>23</td>\n",
       "      <td>23</td>\n",
       "      <td>2749</td>\n",
       "      <td>50</td>\n",
       "      <td>167</td>\n",
       "      <td>348</td>\n",
       "      <td>24</td>\n",
       "      <td>18</td>\n",
       "      <td>12</td>\n",
       "      <td>65</td>\n",
       "    </tr>\n",
       "  </tbody>\n",
       "</table>\n",
       "</div>"
      ],
      "text/plain": [
       "                                         발명의명칭                     발명의명칭(영문)  \\\n",
       "count                                     7481                          7469   \n",
       "unique                                    6641                          6467   \n",
       "top     반려동물 급수기(Water supply device for pets)  Water supply device for pets   \n",
       "freq                                        23                            23   \n",
       "\n",
       "          상태       IPC분류        출원인     대리인              발명자        출원일자  \\\n",
       "count   7481        7481       7481    6971             7481        7481   \n",
       "unique     6        6330       4001    1065             5806        2813   \n",
       "top       등록  A01K 15/02  엘지전자 주식회사  양영준|김영  유현선|김성경|김주겸|전재흥  2021.02.06   \n",
       "freq    2749          50        167     348               24          18   \n",
       "\n",
       "              등록일자        공개일자  \n",
       "count         3140        6361  \n",
       "unique        1603        2365  \n",
       "top     2018.08.02  2020.03.27  \n",
       "freq            12          65  "
      ]
     },
     "execution_count": 10,
     "metadata": {},
     "output_type": "execute_result"
    }
   ],
   "source": [
    "kipris.describe(include= \"object\")"
   ]
  },
  {
   "attachments": {},
   "cell_type": "markdown",
   "metadata": {},
   "source": [
    "## 데이터 전처리"
   ]
  },
  {
   "attachments": {},
   "cell_type": "markdown",
   "metadata": {},
   "source": [
    "### 중복값 제거"
   ]
  },
  {
   "cell_type": "code",
   "execution_count": 21,
   "metadata": {},
   "outputs": [],
   "source": [
    "news_2020 = news1.drop_duplicates()[\"0\"]\n",
    "news_2021 = news2.drop_duplicates()[\"0\"]\n",
    "news_2022 = news3.drop_duplicates()[\"0\"]"
   ]
  },
  {
   "cell_type": "code",
   "execution_count": 22,
   "metadata": {},
   "outputs": [],
   "source": [
    "kipris_name = kipris.loc[kipris[\"상태\"]!=\"거절\"][\"발명의명칭\"].drop_duplicates()"
   ]
  },
  {
   "cell_type": "code",
   "execution_count": 23,
   "metadata": {},
   "outputs": [
    {
     "data": {
      "text/plain": [
       "((2850,), (2816,), (2852,), (5702,))"
      ]
     },
     "execution_count": 23,
     "metadata": {},
     "output_type": "execute_result"
    }
   ],
   "source": [
    "news_2020.shape, news_2021.shape, news_2022.shape, kipris_name.shape"
   ]
  },
  {
   "cell_type": "code",
   "execution_count": 28,
   "metadata": {},
   "outputs": [
    {
     "name": "stderr",
     "output_type": "stream",
     "text": [
      "/var/folders/k5/knpgq_1j4xg_p46vnk55j0gm0000gn/T/ipykernel_3976/3649413601.py:1: FutureWarning: The behavior of `series[i:j]` with an integer-dtype index is deprecated. In a future version, this will be treated as *label-based* indexing, consistent with e.g. `series[i]` lookups. To retain the old behavior, use `series.iloc[i:j]`. To get the future behavior, use `series.loc[i:j]`.\n",
      "  news_2020[0:10]\n"
     ]
    },
    {
     "data": {
      "text/plain": [
       "0               은평구, 반려동물 문화교실 '댕댕이 스쿨' 운영\n",
       "1        새해부터 반려동물 미용사·나무의사도 신중년 고용장려금 받는다\n",
       "2                          반려식물로 코로나 우울 해소\n",
       "3             “우리 아이와 반려동물, 함께 생활해도 괜찮을까?”\n",
       "4    [영상]반려동물 식품의 세계화 \"정부지원 받아 글로벌기업으로 우뚝\"\n",
       "5      배스 사들여 반려동물식품 제조…빈집 고쳐 장기거주 사회주택 제공\n",
       "6       반려동물도 코로나블루? 쿠쿠전자 넬로, 팻케어 제품 수요 증가\n",
       "7             2021년부터 동물보호법 상 맹견은 책임보험 의무화\n",
       "8                 [웰컴 투 펫팸] 반려동물도 쇼크로 쓰러진다\n",
       "9           지솔펫, 반려동물을 위한 살균·소독·향균 탈취제 선보여\n",
       "Name: 0, dtype: object"
      ]
     },
     "execution_count": 28,
     "metadata": {},
     "output_type": "execute_result"
    }
   ],
   "source": [
    "news_2020[0:10]"
   ]
  },
  {
   "cell_type": "code",
   "execution_count": 36,
   "metadata": {},
   "outputs": [
    {
     "data": {
      "text/plain": [
       "0       반려동물용 항산화 보조제 및 그 제조 방법(antioxidant supplement...\n",
       "2       반려동물의 3D 복원 및 감정 분석을 통한 컨텐츠 제공 서버, 사용자 단말 및 그 ...\n",
       "3       딥러닝을 이용한 반려동물 질환 추론 모듈 및 전자 장치(A method and el...\n",
       "4       스마트 반려동물 배변패드 처리장치(Smart companion animal defe...\n",
       "5       반려동물 위생 및 건강관리 기기장치(Sanitary Management and He...\n",
       "                              ...                        \n",
       "7474    펫 금융 계좌를 이용한 펫 금융 서비스 제공 장치 및 그 동작 방법(A pet fi...\n",
       "7476    맞춤형 추천 서비스를 제공하는 온라인 판매 방법(ONLINE SELLING METH...\n",
       "7477          자동 물내림 장치(Automatic toilet flushing device)\n",
       "7479    애완동물 리드줄 제어장치 및 방법(Method and Apparatus for co...\n",
       "7480    애완동물 커뮤니티 서비스를 제공하는 장치 및 방법(APPARATUS AND METH...\n",
       "Name: 발명의명칭, Length: 5702, dtype: object"
      ]
     },
     "execution_count": 36,
     "metadata": {},
     "output_type": "execute_result"
    }
   ],
   "source": [
    "kipris_name"
   ]
  },
  {
   "attachments": {},
   "cell_type": "markdown",
   "metadata": {},
   "source": [
    "### 한글 외 문자 제거"
   ]
  },
  {
   "cell_type": "code",
   "execution_count": 37,
   "metadata": {},
   "outputs": [
    {
     "name": "stderr",
     "output_type": "stream",
     "text": [
      "/var/folders/k5/knpgq_1j4xg_p46vnk55j0gm0000gn/T/ipykernel_3976/483319697.py:2: FutureWarning: The default value of regex will change from True to False in a future version.\n",
      "  news_2020 = news_2020.str.replace(\"[^ㄱ-ㅎㅏ-ㅣ가-힣 ]\",\"\")\n",
      "/var/folders/k5/knpgq_1j4xg_p46vnk55j0gm0000gn/T/ipykernel_3976/483319697.py:3: FutureWarning: The default value of regex will change from True to False in a future version.\n",
      "  news_2021 = news_2021.str.replace(\"[^ㄱ-ㅎㅏ-ㅣ가-힣 ]\",\"\")\n",
      "/var/folders/k5/knpgq_1j4xg_p46vnk55j0gm0000gn/T/ipykernel_3976/483319697.py:4: FutureWarning: The default value of regex will change from True to False in a future version.\n",
      "  news_2022 = news_2022.str.replace(\"[^ㄱ-ㅎㅏ-ㅣ가-힣 ]\",\"\")\n",
      "/var/folders/k5/knpgq_1j4xg_p46vnk55j0gm0000gn/T/ipykernel_3976/483319697.py:5: FutureWarning: The default value of regex will change from True to False in a future version.\n",
      "  kipris_name = kipris_name.str.replace(\"[^ㄱ-ㅎㅏ-ㅣ가-힣 ]\",\"\")\n"
     ]
    }
   ],
   "source": [
    "# 정규 표현식을 통한 한글 외 문자 제거\n",
    "news_2020 = news_2020.str.replace(\"[^ㄱ-ㅎㅏ-ㅣ가-힣 ]\",\"\")\n",
    "news_2021 = news_2021.str.replace(\"[^ㄱ-ㅎㅏ-ㅣ가-힣 ]\",\"\")\n",
    "news_2022 = news_2022.str.replace(\"[^ㄱ-ㅎㅏ-ㅣ가-힣 ]\",\"\")\n",
    "kipris_name = kipris_name.str.replace(\"[^ㄱ-ㅎㅏ-ㅣ가-힣 ]\",\"\")"
   ]
  },
  {
   "cell_type": "code",
   "execution_count": 42,
   "metadata": {},
   "outputs": [
    {
     "name": "stderr",
     "output_type": "stream",
     "text": [
      "/var/folders/k5/knpgq_1j4xg_p46vnk55j0gm0000gn/T/ipykernel_3976/3649413601.py:1: FutureWarning: The behavior of `series[i:j]` with an integer-dtype index is deprecated. In a future version, this will be treated as *label-based* indexing, consistent with e.g. `series[i]` lookups. To retain the old behavior, use `series.iloc[i:j]`. To get the future behavior, use `series.loc[i:j]`.\n",
      "  news_2020[0:10]\n"
     ]
    },
    {
     "data": {
      "text/plain": [
       "0               은평구 반려동물 문화교실 댕댕이 스쿨 운영\n",
       "1      새해부터 반려동물 미용사나무의사도 신중년 고용장려금 받는다\n",
       "2                       반려식물로 코로나 우울 해소\n",
       "3              우리 아이와 반려동물 함께 생활해도 괜찮을까\n",
       "4     영상반려동물 식품의 세계화 정부지원 받아 글로벌기업으로 우뚝\n",
       "5    배스 사들여 반려동물식품 제조빈집 고쳐 장기거주 사회주택 제공\n",
       "6      반려동물도 코로나블루 쿠쿠전자 넬로 팻케어 제품 수요 증가\n",
       "7              년부터 동물보호법 상 맹견은 책임보험 의무화\n",
       "8                웰컴 투 펫팸 반려동물도 쇼크로 쓰러진다\n",
       "9           지솔펫 반려동물을 위한 살균소독향균 탈취제 선보여\n",
       "Name: 0, dtype: object"
      ]
     },
     "execution_count": 42,
     "metadata": {},
     "output_type": "execute_result"
    }
   ],
   "source": [
    "news_2020[0:10]"
   ]
  },
  {
   "cell_type": "code",
   "execution_count": 38,
   "metadata": {},
   "outputs": [
    {
     "name": "stderr",
     "output_type": "stream",
     "text": [
      "/var/folders/k5/knpgq_1j4xg_p46vnk55j0gm0000gn/T/ipykernel_3976/1549287818.py:1: FutureWarning: The behavior of `series[i:j]` with an integer-dtype index is deprecated. In a future version, this will be treated as *label-based* indexing, consistent with e.g. `series[i]` lookups. To retain the old behavior, use `series.iloc[i:j]`. To get the future behavior, use `series.loc[i:j]`.\n",
      "  kipris_name[0:10]\n"
     ]
    },
    {
     "data": {
      "text/plain": [
       "0                       반려동물용 항산화 보조제 및 그 제조 방법        \n",
       "2     반려동물의  복원 및 감정 분석을 통한 컨텐츠 제공 서버 사용자 단말 및 그 방법 ...\n",
       "3              딥러닝을 이용한 반려동물 질환 추론 모듈 및 전자 장치          \n",
       "4                              스마트 반려동물 배변패드 처리장치      \n",
       "5                           반려동물 위생 및 건강관리 기기장치        \n",
       "6                       반려동물의 심리 및 성격유형검사 제공시스템        \n",
       "7                               반려동물 자동 배변 밀폐 처리장치     \n",
       "9                        반려동물 질병 추론 시스템 및 그 방법         \n",
       "10    광용적맥파를 이용한 반려동물 응급상황 모니터링 시스템 및 이의 동작 방법      ...\n",
       "11    반려동물 의료데이터 표준화 방법 및 장치 그리고 이를 이용한 반려동물 질병 발생 예...\n",
       "Name: 발명의명칭, dtype: object"
      ]
     },
     "execution_count": 38,
     "metadata": {},
     "output_type": "execute_result"
    }
   ],
   "source": [
    "kipris_name[0:10]"
   ]
  },
  {
   "attachments": {},
   "cell_type": "markdown",
   "metadata": {},
   "source": [
    "## Tokenizer"
   ]
  },
  {
   "cell_type": "code",
   "execution_count": 43,
   "metadata": {},
   "outputs": [
    {
     "name": "stderr",
     "output_type": "stream",
     "text": [
      "100%|██████████| 2850/2850 [00:06<00:00, 455.86it/s] \n"
     ]
    }
   ],
   "source": [
    "# 불용어 정의\n",
    "stopwords = ['의','가','이','은','들','는','좀','잘','걍','과','도','를','으로','자','에','와','한','하다', '및', '그', '방법', '년부터']\n",
    "\n",
    "# 형태소 분석기 OKT를 사용한 토큰화 작업 (다소 시간 소요)\n",
    "okt = Okt()\n",
    "\n",
    "tokenized_data = []\n",
    "for sentence in tqdm(news_2020):\n",
    "    tokenized_sentence = okt.morphs(sentence, stem=True) # 토큰화\n",
    "    stopwords_removed_sentence = [word for word in tokenized_sentence if not word in stopwords] # 불용어 제거\n",
    "    tokenized_data.append(stopwords_removed_sentence)"
   ]
  },
  {
   "cell_type": "code",
   "execution_count": 44,
   "metadata": {},
   "outputs": [
    {
     "name": "stdout",
     "output_type": "stream",
     "text": [
      "기사의 최대 길이 : 16\n",
      "기사의 평균 길이 : 9.469122807017543\n"
     ]
    },
    {
     "data": {
      "image/png": "[encoded data removed]",
      "text/plain": [
       "<Figure size 640x480 with 1 Axes>"
      ]
     },
     "metadata": {},
     "output_type": "display_data"
    }
   ],
   "source": [
    "print('기사의 최대 길이 :',max(len(article) for article in tokenized_data))\n",
    "print('기사의 평균 길이 :',sum(map(len, tokenized_data))/len(tokenized_data))\n",
    "plt.hist([len(article) for article in tokenized_data], bins=50)\n",
    "plt.xlabel('length of samples')\n",
    "plt.ylabel('number of samples')\n",
    "plt.show()"
   ]
  },
  {
   "attachments": {},
   "cell_type": "markdown",
   "metadata": {},
   "source": [
    "### Word2Vec 모델링"
   ]
  },
  {
   "cell_type": "code",
   "execution_count": 47,
   "metadata": {},
   "outputs": [],
   "source": [
    "model = Word2Vec(sentences = tokenized_data, window = 5, min_count = 5, workers = 4, sg = 0)"
   ]
  },
  {
   "cell_type": "code",
   "execution_count": 48,
   "metadata": {},
   "outputs": [
    {
     "data": {
      "text/plain": [
       "(1141, 100)"
      ]
     },
     "execution_count": 48,
     "metadata": {},
     "output_type": "execute_result"
    }
   ],
   "source": [
    "# 완성된 임베딩 매트릭스의 크기 확인\n",
    "model.wv.vectors.shape"
   ]
  },
  {
   "cell_type": "code",
   "execution_count": 49,
   "metadata": {},
   "outputs": [
    {
     "name": "stdout",
     "output_type": "stream",
     "text": [
      "[('펫', 0.9998042583465576), ('동물', 0.9997915625572205), ('위', 0.9997674226760864), ('사료', 0.99974524974823), ('반려견', 0.9997415542602539), ('되다', 0.999729335308075), ('반려', 0.9997292160987854), ('까지', 0.9997276067733765), ('관리', 0.9997050762176514), ('대', 0.9997009634971619)]\n"
     ]
    }
   ],
   "source": [
    "print(model.wv.most_similar(\"반려동물\"))"
   ]
  },
  {
   "cell_type": "code",
   "execution_count": 51,
   "metadata": {},
   "outputs": [
    {
     "name": "stdout",
     "output_type": "stream",
     "text": [
      "[('반려동물', 0.9998043179512024), ('동물', 0.9997334480285645), ('반려', 0.9997275471687317), ('위', 0.999717116355896), ('개', 0.9996923804283142), ('함께', 0.9996877908706665), ('출시', 0.9996835589408875), ('사료', 0.9996762871742249), ('산업', 0.9996757507324219), ('서비스', 0.9996722936630249)]\n"
     ]
    }
   ],
   "source": [
    "print(model.wv.most_similar(\"펫\"))"
   ]
  }
 ],
 "metadata": {
  "kernelspec": {
   "display_name": "lion",
   "language": "python",
   "name": "lion"
  },
  "language_info": {
   "codemirror_mode": {
    "name": "ipython",
    "version": 3
   },
   "file_extension": ".py",
   "mimetype": "text/x-python",
   "name": "python",
   "nbconvert_exporter": "python",
   "pygments_lexer": "ipython3",
   "version": "3.9.15"
  },
  "orig_nbformat": 4,
  "vscode": {
   "interpreter": {
    "hash": "f2535503e00e64e6c766cdaf2522146fb194dd032ceec221dd775fc338c30be3"
   }
  }
 },
 "nbformat": 4,
 "nbformat_minor": 2
}
