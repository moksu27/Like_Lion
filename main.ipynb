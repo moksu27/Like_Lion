{
 "cells": [
  {
   "cell_type": "code",
   "execution_count": 1,
   "metadata": {},
   "outputs": [],
   "source": [
    "import pandas as pd\n",
    "import numpy as np\n",
    "import seaborn as sns\n",
    "import requests\n",
    "from bs4 import BeautifulSoup as bs\n",
    "import matplotlib.pyplot as plt\n",
    "from konlpy.tag import Kkma\n",
    "import urllib.request\n",
    "from gensim.models.word2vec import Word2Vec\n",
    "from konlpy.tag import Okt\n",
    "from tqdm import tqdm"
   ]
  },
  {
   "attachments": {},
   "cell_type": "markdown",
   "metadata": {},
   "source": [
    "## 데이터 탐색"
   ]
  },
  {
   "cell_type": "code",
   "execution_count": 2,
   "metadata": {},
   "outputs": [
    {
     "data": {
      "text/html": [
       "<div>\n",
       "<style scoped>\n",
       "    .dataframe tbody tr th:only-of-type {\n",
       "        vertical-align: middle;\n",
       "    }\n",
       "\n",
       "    .dataframe tbody tr th {\n",
       "        vertical-align: top;\n",
       "    }\n",
       "\n",
       "    .dataframe thead th {\n",
       "        text-align: right;\n",
       "    }\n",
       "</style>\n",
       "<table border=\"1\" class=\"dataframe\">\n",
       "  <thead>\n",
       "    <tr style=\"text-align: right;\">\n",
       "      <th></th>\n",
       "      <th>0</th>\n",
       "    </tr>\n",
       "  </thead>\n",
       "  <tbody>\n",
       "    <tr>\n",
       "      <th>0</th>\n",
       "      <td>은평구, 반려동물 문화교실 '댕댕이 스쿨' 운영</td>\n",
       "    </tr>\n",
       "    <tr>\n",
       "      <th>1</th>\n",
       "      <td>새해부터 반려동물 미용사·나무의사도 신중년 고용장려금 받는다</td>\n",
       "    </tr>\n",
       "    <tr>\n",
       "      <th>2</th>\n",
       "      <td>반려식물로 코로나 우울 해소</td>\n",
       "    </tr>\n",
       "    <tr>\n",
       "      <th>3</th>\n",
       "      <td>“우리 아이와 반려동물, 함께 생활해도 괜찮을까?”</td>\n",
       "    </tr>\n",
       "    <tr>\n",
       "      <th>4</th>\n",
       "      <td>[영상]반려동물 식품의 세계화 \"정부지원 받아 글로벌기업으로 우뚝\"</td>\n",
       "    </tr>\n",
       "    <tr>\n",
       "      <th>5</th>\n",
       "      <td>배스 사들여 반려동물식품 제조…빈집 고쳐 장기거주 사회주택 제공</td>\n",
       "    </tr>\n",
       "    <tr>\n",
       "      <th>6</th>\n",
       "      <td>반려동물도 코로나블루? 쿠쿠전자 넬로, 팻케어 제품 수요 증가</td>\n",
       "    </tr>\n",
       "    <tr>\n",
       "      <th>7</th>\n",
       "      <td>2021년부터 동물보호법 상 맹견은 책임보험 의무화</td>\n",
       "    </tr>\n",
       "    <tr>\n",
       "      <th>8</th>\n",
       "      <td>[웰컴 투 펫팸] 반려동물도 쇼크로 쓰러진다</td>\n",
       "    </tr>\n",
       "    <tr>\n",
       "      <th>9</th>\n",
       "      <td>지솔펫, 반려동물을 위한 살균·소독·향균 탈취제 선보여</td>\n",
       "    </tr>\n",
       "  </tbody>\n",
       "</table>\n",
       "</div>"
      ],
      "text/plain": [
       "                                       0\n",
       "0             은평구, 반려동물 문화교실 '댕댕이 스쿨' 운영\n",
       "1      새해부터 반려동물 미용사·나무의사도 신중년 고용장려금 받는다\n",
       "2                        반려식물로 코로나 우울 해소\n",
       "3           “우리 아이와 반려동물, 함께 생활해도 괜찮을까?”\n",
       "4  [영상]반려동물 식품의 세계화 \"정부지원 받아 글로벌기업으로 우뚝\"\n",
       "5    배스 사들여 반려동물식품 제조…빈집 고쳐 장기거주 사회주택 제공\n",
       "6     반려동물도 코로나블루? 쿠쿠전자 넬로, 팻케어 제품 수요 증가\n",
       "7           2021년부터 동물보호법 상 맹견은 책임보험 의무화\n",
       "8               [웰컴 투 펫팸] 반려동물도 쇼크로 쓰러진다\n",
       "9         지솔펫, 반려동물을 위한 살균·소독·향균 탈취제 선보여"
      ]
     },
     "execution_count": 2,
     "metadata": {},
     "output_type": "execute_result"
    }
   ],
   "source": [
    "news1 = pd.read_csv(\"data/2020.01.01_2020.12.31_1.csv\")\n",
    "news1.head(10)"
   ]
  },
  {
   "cell_type": "code",
   "execution_count": 3,
   "metadata": {},
   "outputs": [
    {
     "data": {
      "text/html": [
       "<div>\n",
       "<style scoped>\n",
       "    .dataframe tbody tr th:only-of-type {\n",
       "        vertical-align: middle;\n",
       "    }\n",
       "\n",
       "    .dataframe tbody tr th {\n",
       "        vertical-align: top;\n",
       "    }\n",
       "\n",
       "    .dataframe thead th {\n",
       "        text-align: right;\n",
       "    }\n",
       "</style>\n",
       "<table border=\"1\" class=\"dataframe\">\n",
       "  <thead>\n",
       "    <tr style=\"text-align: right;\">\n",
       "      <th></th>\n",
       "      <th>0</th>\n",
       "    </tr>\n",
       "  </thead>\n",
       "  <tbody>\n",
       "    <tr>\n",
       "      <th>0</th>\n",
       "      <td>이재명 코로나 거점 전담병원 방문…‘반려동물’ 유튜브 출연</td>\n",
       "    </tr>\n",
       "    <tr>\n",
       "      <th>1</th>\n",
       "      <td>반려동물 함께 즐기는 스타벅스 더북한강R 점 오픈</td>\n",
       "    </tr>\n",
       "    <tr>\n",
       "      <th>2</th>\n",
       "      <td>잔인한 방법으로 개 도살, 허가 없이 번식도…동물 학대 적발</td>\n",
       "    </tr>\n",
       "    <tr>\n",
       "      <th>3</th>\n",
       "      <td>반려동물도 코로나 감염…\"확진자 재택치료시 분리해야\"</td>\n",
       "    </tr>\n",
       "    <tr>\n",
       "      <th>4</th>\n",
       "      <td>올해 최다 이용 반려동물 앱 1위는 펫프렌즈</td>\n",
       "    </tr>\n",
       "    <tr>\n",
       "      <th>5</th>\n",
       "      <td>반려동물은 제2의 고객… 펫팸족 공략나선 LCC</td>\n",
       "    </tr>\n",
       "    <tr>\n",
       "      <th>6</th>\n",
       "      <td>‘면적 제한 폐지’ 농지원부 작성 의무화... 동물보건사 자격제도 시행</td>\n",
       "    </tr>\n",
       "    <tr>\n",
       "      <th>7</th>\n",
       "      <td>울산 남구, 반려동물정책계·치매관리계 신설…조직개편 단행</td>\n",
       "    </tr>\n",
       "    <tr>\n",
       "      <th>8</th>\n",
       "      <td>허은아 \"이재명, 반려견 '이행복'은 어디에..동물에 대한 애정 없어\"</td>\n",
       "    </tr>\n",
       "    <tr>\n",
       "      <th>9</th>\n",
       "      <td>스파이더맨 보러 간 영화관 팝콘 속에서 나온 '햄스터' 반려동물로 입양한 소...</td>\n",
       "    </tr>\n",
       "  </tbody>\n",
       "</table>\n",
       "</div>"
      ],
      "text/plain": [
       "                                               0\n",
       "0               이재명 코로나 거점 전담병원 방문…‘반려동물’ 유튜브 출연\n",
       "1                    반려동물 함께 즐기는 스타벅스 더북한강R 점 오픈\n",
       "2              잔인한 방법으로 개 도살, 허가 없이 번식도…동물 학대 적발\n",
       "3                  반려동물도 코로나 감염…\"확진자 재택치료시 분리해야\"\n",
       "4                       올해 최다 이용 반려동물 앱 1위는 펫프렌즈\n",
       "5                     반려동물은 제2의 고객… 펫팸족 공략나선 LCC\n",
       "6        ‘면적 제한 폐지’ 농지원부 작성 의무화... 동물보건사 자격제도 시행\n",
       "7                울산 남구, 반려동물정책계·치매관리계 신설…조직개편 단행\n",
       "8        허은아 \"이재명, 반려견 '이행복'은 어디에..동물에 대한 애정 없어\"\n",
       "9  스파이더맨 보러 간 영화관 팝콘 속에서 나온 '햄스터' 반려동물로 입양한 소..."
      ]
     },
     "execution_count": 3,
     "metadata": {},
     "output_type": "execute_result"
    }
   ],
   "source": [
    "news2 = pd.read_csv(\"data/2021.01.01_2021.12.31_1.csv\")\n",
    "news2.head(10)"
   ]
  },
  {
   "cell_type": "code",
   "execution_count": 4,
   "metadata": {},
   "outputs": [
    {
     "data": {
      "text/html": [
       "<div>\n",
       "<style scoped>\n",
       "    .dataframe tbody tr th:only-of-type {\n",
       "        vertical-align: middle;\n",
       "    }\n",
       "\n",
       "    .dataframe tbody tr th {\n",
       "        vertical-align: top;\n",
       "    }\n",
       "\n",
       "    .dataframe thead th {\n",
       "        text-align: right;\n",
       "    }\n",
       "</style>\n",
       "<table border=\"1\" class=\"dataframe\">\n",
       "  <thead>\n",
       "    <tr style=\"text-align: right;\">\n",
       "      <th></th>\n",
       "      <th>0</th>\n",
       "    </tr>\n",
       "  </thead>\n",
       "  <tbody>\n",
       "    <tr>\n",
       "      <th>0</th>\n",
       "      <td>尹대통령, 은퇴 안내견 입양…관저에 11번째 동물 식구(종합)</td>\n",
       "    </tr>\n",
       "    <tr>\n",
       "      <th>1</th>\n",
       "      <td>윤 대통령 부부, 은퇴 안내견 '새롬이' 입양… 11번째 반려동물</td>\n",
       "    </tr>\n",
       "    <tr>\n",
       "      <th>2</th>\n",
       "      <td>[영상]부산 1호 반려동물 테마파크...주민들이 반대하는 이유</td>\n",
       "    </tr>\n",
       "    <tr>\n",
       "      <th>3</th>\n",
       "      <td>[정치톡톡] 정치권 성탄 메시지 / '민주당의 길' 출범 / 대통령 11번째 반려동...</td>\n",
       "    </tr>\n",
       "    <tr>\n",
       "      <th>4</th>\n",
       "      <td>'동물복지 조례·보호센터 직영 운영'…사람과 동물이 행복한 고양시</td>\n",
       "    </tr>\n",
       "    <tr>\n",
       "      <th>5</th>\n",
       "      <td>'TV동물농장' 뒷다리 마비 웰시코기 '장수'</td>\n",
       "    </tr>\n",
       "    <tr>\n",
       "      <th>6</th>\n",
       "      <td>경기도반려동물테마파크의 배신?… 지원시설 빼고 추모관뿐</td>\n",
       "    </tr>\n",
       "    <tr>\n",
       "      <th>7</th>\n",
       "      <td>볼보자동차, 서울시에 반려동물 물품 5천만원 상당 기부</td>\n",
       "    </tr>\n",
       "    <tr>\n",
       "      <th>8</th>\n",
       "      <td>서울시, 반려동물 '사료검정기관' 지정…전국 지자체 중 최초</td>\n",
       "    </tr>\n",
       "    <tr>\n",
       "      <th>9</th>\n",
       "      <td>삶이 위태로운 야생동물의 똥이 우리에게 하는 말 [반려인의 오후]</td>\n",
       "    </tr>\n",
       "  </tbody>\n",
       "</table>\n",
       "</div>"
      ],
      "text/plain": [
       "                                                   0\n",
       "0                 尹대통령, 은퇴 안내견 입양…관저에 11번째 동물 식구(종합)\n",
       "1               윤 대통령 부부, 은퇴 안내견 '새롬이' 입양… 11번째 반려동물\n",
       "2                 [영상]부산 1호 반려동물 테마파크...주민들이 반대하는 이유\n",
       "3  [정치톡톡] 정치권 성탄 메시지 / '민주당의 길' 출범 / 대통령 11번째 반려동...\n",
       "4               '동물복지 조례·보호센터 직영 운영'…사람과 동물이 행복한 고양시\n",
       "5                          'TV동물농장' 뒷다리 마비 웰시코기 '장수'\n",
       "6                     경기도반려동물테마파크의 배신?… 지원시설 빼고 추모관뿐\n",
       "7                     볼보자동차, 서울시에 반려동물 물품 5천만원 상당 기부\n",
       "8                  서울시, 반려동물 '사료검정기관' 지정…전국 지자체 중 최초\n",
       "9               삶이 위태로운 야생동물의 똥이 우리에게 하는 말 [반려인의 오후]"
      ]
     },
     "execution_count": 4,
     "metadata": {},
     "output_type": "execute_result"
    }
   ],
   "source": [
    "news3 = pd.read_csv(\"data/2022.01.01_2022.12.25_1.csv\")\n",
    "news3.head(10)"
   ]
  },
  {
   "cell_type": "code",
   "execution_count": 5,
   "metadata": {},
   "outputs": [
    {
     "data": {
      "text/html": [
       "<div>\n",
       "<style scoped>\n",
       "    .dataframe tbody tr th:only-of-type {\n",
       "        vertical-align: middle;\n",
       "    }\n",
       "\n",
       "    .dataframe tbody tr th {\n",
       "        vertical-align: top;\n",
       "    }\n",
       "\n",
       "    .dataframe thead th {\n",
       "        text-align: right;\n",
       "    }\n",
       "</style>\n",
       "<table border=\"1\" class=\"dataframe\">\n",
       "  <thead>\n",
       "    <tr style=\"text-align: right;\">\n",
       "      <th></th>\n",
       "      <th>대표도면</th>\n",
       "      <th>출원번호</th>\n",
       "      <th>발명의명칭</th>\n",
       "      <th>발명의명칭(영문)</th>\n",
       "      <th>상태</th>\n",
       "      <th>IPC분류</th>\n",
       "      <th>출원인</th>\n",
       "      <th>대리인</th>\n",
       "      <th>발명자</th>\n",
       "      <th>출원일자</th>\n",
       "      <th>등록번호</th>\n",
       "      <th>등록일자</th>\n",
       "      <th>공개번호</th>\n",
       "      <th>공개일자</th>\n",
       "    </tr>\n",
       "  </thead>\n",
       "  <tbody>\n",
       "    <tr>\n",
       "      <th>0</th>\n",
       "      <td>NaN</td>\n",
       "      <td>1020210147821</td>\n",
       "      <td>반려동물용 항산화 보조제 및 그 제조 방법(antioxidant supplement...</td>\n",
       "      <td>antioxidant supplements for companion animal a...</td>\n",
       "      <td>등록</td>\n",
       "      <td>A23K 20/10|A23K 50/40|A61K 9/48|A23K 20/158|A2...</td>\n",
       "      <td>(주)한국반려동물영양연구소</td>\n",
       "      <td>문춘오</td>\n",
       "      <td>정설령</td>\n",
       "      <td>2021.11.01</td>\n",
       "      <td>1.024582e+12</td>\n",
       "      <td>2022.10.19</td>\n",
       "      <td>NaN</td>\n",
       "      <td>NaN</td>\n",
       "    </tr>\n",
       "    <tr>\n",
       "      <th>1</th>\n",
       "      <td>NaN</td>\n",
       "      <td>1020190100688</td>\n",
       "      <td>스마트폰을 이용한 반려동물 미용샵 예약관리 시스템 및 방법(RESERVATION S...</td>\n",
       "      <td>RESERVATION SYSTEM AND METHOD FOR A PET BEAUTY...</td>\n",
       "      <td>거절</td>\n",
       "      <td>G06Q 50/10|G06Q 10/02|G06Q 30/02|G06Q 50/30|G0...</td>\n",
       "      <td>주식회사 펫미</td>\n",
       "      <td>우정연</td>\n",
       "      <td>백영호</td>\n",
       "      <td>2019.08.18</td>\n",
       "      <td>NaN</td>\n",
       "      <td>NaN</td>\n",
       "      <td>1.020210e+12</td>\n",
       "      <td>2021.02.26</td>\n",
       "    </tr>\n",
       "    <tr>\n",
       "      <th>2</th>\n",
       "      <td>NaN</td>\n",
       "      <td>1020200081386</td>\n",
       "      <td>반려동물의 3D 복원 및 감정 분석을 통한 컨텐츠 제공 서버, 사용자 단말 및 그 ...</td>\n",
       "      <td>SERVER AND USER EQUIPMENT FOR PROVIDING CONTEN...</td>\n",
       "      <td>등록</td>\n",
       "      <td>G06T 7/55|G06T 7/194|G06T 13/40|G06T 11/60|G06...</td>\n",
       "      <td>주식회사 엘지유플러스</td>\n",
       "      <td>특허법인 무한</td>\n",
       "      <td>유한규</td>\n",
       "      <td>2020.07.02</td>\n",
       "      <td>1.024808e+12</td>\n",
       "      <td>2022.12.20</td>\n",
       "      <td>1.020220e+12</td>\n",
       "      <td>2022.01.11</td>\n",
       "    </tr>\n",
       "    <tr>\n",
       "      <th>3</th>\n",
       "      <td>NaN</td>\n",
       "      <td>1020210044524</td>\n",
       "      <td>딥러닝을 이용한 반려동물 질환 추론 모듈 및 전자 장치(A method and el...</td>\n",
       "      <td>A method and electronic device for distinguish...</td>\n",
       "      <td>공개</td>\n",
       "      <td>G16H 50/70|G16H 50/20|G16H 30/40|G16H 30/20|G0...</td>\n",
       "      <td>주식회사 알파도</td>\n",
       "      <td>박수영</td>\n",
       "      <td>지영호</td>\n",
       "      <td>2021.04.06</td>\n",
       "      <td>NaN</td>\n",
       "      <td>NaN</td>\n",
       "      <td>1.020220e+12</td>\n",
       "      <td>2022.10.14</td>\n",
       "    </tr>\n",
       "    <tr>\n",
       "      <th>4</th>\n",
       "      <td>NaN</td>\n",
       "      <td>1020220060339</td>\n",
       "      <td>스마트 반려동물 배변패드 처리장치(Smart companion animal defe...</td>\n",
       "      <td>Smart companion animal defecation pad disposal...</td>\n",
       "      <td>등록</td>\n",
       "      <td>A01K 1/01|A01K 23/00</td>\n",
       "      <td>충북대학교 산학협력단</td>\n",
       "      <td>김정현</td>\n",
       "      <td>이아연|구승회</td>\n",
       "      <td>2022.05.17</td>\n",
       "      <td>1.024807e+12</td>\n",
       "      <td>2022.12.20</td>\n",
       "      <td>NaN</td>\n",
       "      <td>NaN</td>\n",
       "    </tr>\n",
       "  </tbody>\n",
       "</table>\n",
       "</div>"
      ],
      "text/plain": [
       "   대표도면           출원번호                                              발명의명칭  \\\n",
       "0   NaN  1020210147821  반려동물용 항산화 보조제 및 그 제조 방법(antioxidant supplement...   \n",
       "1   NaN  1020190100688  스마트폰을 이용한 반려동물 미용샵 예약관리 시스템 및 방법(RESERVATION S...   \n",
       "2   NaN  1020200081386  반려동물의 3D 복원 및 감정 분석을 통한 컨텐츠 제공 서버, 사용자 단말 및 그 ...   \n",
       "3   NaN  1020210044524  딥러닝을 이용한 반려동물 질환 추론 모듈 및 전자 장치(A method and el...   \n",
       "4   NaN  1020220060339  스마트 반려동물 배변패드 처리장치(Smart companion animal defe...   \n",
       "\n",
       "                                           발명의명칭(영문)  상태  \\\n",
       "0  antioxidant supplements for companion animal a...  등록   \n",
       "1  RESERVATION SYSTEM AND METHOD FOR A PET BEAUTY...  거절   \n",
       "2  SERVER AND USER EQUIPMENT FOR PROVIDING CONTEN...  등록   \n",
       "3  A method and electronic device for distinguish...  공개   \n",
       "4  Smart companion animal defecation pad disposal...  등록   \n",
       "\n",
       "                                               IPC분류             출원인      대리인  \\\n",
       "0  A23K 20/10|A23K 50/40|A61K 9/48|A23K 20/158|A2...  (주)한국반려동물영양연구소      문춘오   \n",
       "1  G06Q 50/10|G06Q 10/02|G06Q 30/02|G06Q 50/30|G0...         주식회사 펫미      우정연   \n",
       "2  G06T 7/55|G06T 7/194|G06T 13/40|G06T 11/60|G06...     주식회사 엘지유플러스  특허법인 무한   \n",
       "3  G16H 50/70|G16H 50/20|G16H 30/40|G16H 30/20|G0...        주식회사 알파도      박수영   \n",
       "4                               A01K 1/01|A01K 23/00     충북대학교 산학협력단      김정현   \n",
       "\n",
       "       발명자        출원일자          등록번호        등록일자          공개번호        공개일자  \n",
       "0      정설령  2021.11.01  1.024582e+12  2022.10.19           NaN         NaN  \n",
       "1      백영호  2019.08.18           NaN         NaN  1.020210e+12  2021.02.26  \n",
       "2      유한규  2020.07.02  1.024808e+12  2022.12.20  1.020220e+12  2022.01.11  \n",
       "3      지영호  2021.04.06           NaN         NaN  1.020220e+12  2022.10.14  \n",
       "4  이아연|구승회  2022.05.17  1.024807e+12  2022.12.20           NaN         NaN  "
      ]
     },
     "execution_count": 5,
     "metadata": {},
     "output_type": "execute_result"
    }
   ],
   "source": [
    "kipris = pd.read_csv(\"data/kipris.csv\")\n",
    "kipris.head(5)"
   ]
  },
  {
   "cell_type": "code",
   "execution_count": 6,
   "metadata": {},
   "outputs": [
    {
     "data": {
      "text/plain": [
       "((4000, 1), (4000, 1), (4000, 1), (7481, 14))"
      ]
     },
     "execution_count": 6,
     "metadata": {},
     "output_type": "execute_result"
    }
   ],
   "source": [
    "news1.shape, news2.shape, news3.shape, kipris.shape"
   ]
  },
  {
   "cell_type": "code",
   "execution_count": 7,
   "metadata": {},
   "outputs": [
    {
     "data": {
      "text/html": [
       "<div>\n",
       "<style scoped>\n",
       "    .dataframe tbody tr th:only-of-type {\n",
       "        vertical-align: middle;\n",
       "    }\n",
       "\n",
       "    .dataframe tbody tr th {\n",
       "        vertical-align: top;\n",
       "    }\n",
       "\n",
       "    .dataframe thead th {\n",
       "        text-align: right;\n",
       "    }\n",
       "</style>\n",
       "<table border=\"1\" class=\"dataframe\">\n",
       "  <thead>\n",
       "    <tr style=\"text-align: right;\">\n",
       "      <th></th>\n",
       "      <th>0</th>\n",
       "    </tr>\n",
       "  </thead>\n",
       "  <tbody>\n",
       "    <tr>\n",
       "      <th>count</th>\n",
       "      <td>4000</td>\n",
       "    </tr>\n",
       "    <tr>\n",
       "      <th>unique</th>\n",
       "      <td>2850</td>\n",
       "    </tr>\n",
       "    <tr>\n",
       "      <th>top</th>\n",
       "      <td>반려동물과 오랫동안 행복하게! '화묘도 花猫圖 꽃과 고양이 그림 달력' 텀블...</td>\n",
       "    </tr>\n",
       "    <tr>\n",
       "      <th>freq</th>\n",
       "      <td>8</td>\n",
       "    </tr>\n",
       "  </tbody>\n",
       "</table>\n",
       "</div>"
      ],
      "text/plain": [
       "                                                    0\n",
       "count                                            4000\n",
       "unique                                           2850\n",
       "top     반려동물과 오랫동안 행복하게! '화묘도 花猫圖 꽃과 고양이 그림 달력' 텀블...\n",
       "freq                                                8"
      ]
     },
     "execution_count": 7,
     "metadata": {},
     "output_type": "execute_result"
    }
   ],
   "source": [
    "news1.describe()"
   ]
  },
  {
   "cell_type": "code",
   "execution_count": 8,
   "metadata": {},
   "outputs": [
    {
     "data": {
      "text/html": [
       "<div>\n",
       "<style scoped>\n",
       "    .dataframe tbody tr th:only-of-type {\n",
       "        vertical-align: middle;\n",
       "    }\n",
       "\n",
       "    .dataframe tbody tr th {\n",
       "        vertical-align: top;\n",
       "    }\n",
       "\n",
       "    .dataframe thead th {\n",
       "        text-align: right;\n",
       "    }\n",
       "</style>\n",
       "<table border=\"1\" class=\"dataframe\">\n",
       "  <thead>\n",
       "    <tr style=\"text-align: right;\">\n",
       "      <th></th>\n",
       "      <th>0</th>\n",
       "    </tr>\n",
       "  </thead>\n",
       "  <tbody>\n",
       "    <tr>\n",
       "      <th>count</th>\n",
       "      <td>4000</td>\n",
       "    </tr>\n",
       "    <tr>\n",
       "      <th>unique</th>\n",
       "      <td>2816</td>\n",
       "    </tr>\n",
       "    <tr>\n",
       "      <th>top</th>\n",
       "      <td>JW생활건강, 반려동물 영양제 브랜드 '라보펫' 론칭</td>\n",
       "    </tr>\n",
       "    <tr>\n",
       "      <th>freq</th>\n",
       "      <td>12</td>\n",
       "    </tr>\n",
       "  </tbody>\n",
       "</table>\n",
       "</div>"
      ],
      "text/plain": [
       "                                    0\n",
       "count                            4000\n",
       "unique                           2816\n",
       "top     JW생활건강, 반려동물 영양제 브랜드 '라보펫' 론칭\n",
       "freq                               12"
      ]
     },
     "execution_count": 8,
     "metadata": {},
     "output_type": "execute_result"
    }
   ],
   "source": [
    "news2.describe()"
   ]
  },
  {
   "cell_type": "code",
   "execution_count": 9,
   "metadata": {},
   "outputs": [
    {
     "data": {
      "text/html": [
       "<div>\n",
       "<style scoped>\n",
       "    .dataframe tbody tr th:only-of-type {\n",
       "        vertical-align: middle;\n",
       "    }\n",
       "\n",
       "    .dataframe tbody tr th {\n",
       "        vertical-align: top;\n",
       "    }\n",
       "\n",
       "    .dataframe thead th {\n",
       "        text-align: right;\n",
       "    }\n",
       "</style>\n",
       "<table border=\"1\" class=\"dataframe\">\n",
       "  <thead>\n",
       "    <tr style=\"text-align: right;\">\n",
       "      <th></th>\n",
       "      <th>0</th>\n",
       "    </tr>\n",
       "  </thead>\n",
       "  <tbody>\n",
       "    <tr>\n",
       "      <th>count</th>\n",
       "      <td>4000</td>\n",
       "    </tr>\n",
       "    <tr>\n",
       "      <th>unique</th>\n",
       "      <td>2852</td>\n",
       "    </tr>\n",
       "    <tr>\n",
       "      <th>top</th>\n",
       "      <td>우리은행, 반려동물 콘테스트 개최</td>\n",
       "    </tr>\n",
       "    <tr>\n",
       "      <th>freq</th>\n",
       "      <td>14</td>\n",
       "    </tr>\n",
       "  </tbody>\n",
       "</table>\n",
       "</div>"
      ],
      "text/plain": [
       "                         0\n",
       "count                 4000\n",
       "unique                2852\n",
       "top     우리은행, 반려동물 콘테스트 개최\n",
       "freq                    14"
      ]
     },
     "execution_count": 9,
     "metadata": {},
     "output_type": "execute_result"
    }
   ],
   "source": [
    "news3.describe()"
   ]
  },
  {
   "cell_type": "code",
   "execution_count": 10,
   "metadata": {},
   "outputs": [
    {
     "data": {
      "text/html": [
       "<div>\n",
       "<style scoped>\n",
       "    .dataframe tbody tr th:only-of-type {\n",
       "        vertical-align: middle;\n",
       "    }\n",
       "\n",
       "    .dataframe tbody tr th {\n",
       "        vertical-align: top;\n",
       "    }\n",
       "\n",
       "    .dataframe thead th {\n",
       "        text-align: right;\n",
       "    }\n",
       "</style>\n",
       "<table border=\"1\" class=\"dataframe\">\n",
       "  <thead>\n",
       "    <tr style=\"text-align: right;\">\n",
       "      <th></th>\n",
       "      <th>발명의명칭</th>\n",
       "      <th>발명의명칭(영문)</th>\n",
       "      <th>상태</th>\n",
       "      <th>IPC분류</th>\n",
       "      <th>출원인</th>\n",
       "      <th>대리인</th>\n",
       "      <th>발명자</th>\n",
       "      <th>출원일자</th>\n",
       "      <th>등록일자</th>\n",
       "      <th>공개일자</th>\n",
       "    </tr>\n",
       "  </thead>\n",
       "  <tbody>\n",
       "    <tr>\n",
       "      <th>count</th>\n",
       "      <td>7481</td>\n",
       "      <td>7469</td>\n",
       "      <td>7481</td>\n",
       "      <td>7481</td>\n",
       "      <td>7481</td>\n",
       "      <td>6971</td>\n",
       "      <td>7481</td>\n",
       "      <td>7481</td>\n",
       "      <td>3140</td>\n",
       "      <td>6361</td>\n",
       "    </tr>\n",
       "    <tr>\n",
       "      <th>unique</th>\n",
       "      <td>6641</td>\n",
       "      <td>6467</td>\n",
       "      <td>6</td>\n",
       "      <td>6330</td>\n",
       "      <td>4001</td>\n",
       "      <td>1065</td>\n",
       "      <td>5806</td>\n",
       "      <td>2813</td>\n",
       "      <td>1603</td>\n",
       "      <td>2365</td>\n",
       "    </tr>\n",
       "    <tr>\n",
       "      <th>top</th>\n",
       "      <td>반려동물 급수기(Water supply device for pets)</td>\n",
       "      <td>Water supply device for pets</td>\n",
       "      <td>등록</td>\n",
       "      <td>A01K 15/02</td>\n",
       "      <td>엘지전자 주식회사</td>\n",
       "      <td>양영준|김영</td>\n",
       "      <td>유현선|김성경|김주겸|전재흥</td>\n",
       "      <td>2021.02.06</td>\n",
       "      <td>2018.08.02</td>\n",
       "      <td>2020.03.27</td>\n",
       "    </tr>\n",
       "    <tr>\n",
       "      <th>freq</th>\n",
       "      <td>23</td>\n",
       "      <td>23</td>\n",
       "      <td>2749</td>\n",
       "      <td>50</td>\n",
       "      <td>167</td>\n",
       "      <td>348</td>\n",
       "      <td>24</td>\n",
       "      <td>18</td>\n",
       "      <td>12</td>\n",
       "      <td>65</td>\n",
       "    </tr>\n",
       "  </tbody>\n",
       "</table>\n",
       "</div>"
      ],
      "text/plain": [
       "                                         발명의명칭                     발명의명칭(영문)  \\\n",
       "count                                     7481                          7469   \n",
       "unique                                    6641                          6467   \n",
       "top     반려동물 급수기(Water supply device for pets)  Water supply device for pets   \n",
       "freq                                        23                            23   \n",
       "\n",
       "          상태       IPC분류        출원인     대리인              발명자        출원일자  \\\n",
       "count   7481        7481       7481    6971             7481        7481   \n",
       "unique     6        6330       4001    1065             5806        2813   \n",
       "top       등록  A01K 15/02  엘지전자 주식회사  양영준|김영  유현선|김성경|김주겸|전재흥  2021.02.06   \n",
       "freq    2749          50        167     348               24          18   \n",
       "\n",
       "              등록일자        공개일자  \n",
       "count         3140        6361  \n",
       "unique        1603        2365  \n",
       "top     2018.08.02  2020.03.27  \n",
       "freq            12          65  "
      ]
     },
     "execution_count": 10,
     "metadata": {},
     "output_type": "execute_result"
    }
   ],
   "source": [
    "kipris.describe(include= \"object\")"
   ]
  },
  {
   "attachments": {},
   "cell_type": "markdown",
   "metadata": {},
   "source": [
    "## 데이터 전처리"
   ]
  },
  {
   "attachments": {},
   "cell_type": "markdown",
   "metadata": {},
   "source": [
    "### 중복값 제거"
   ]
  },
  {
   "cell_type": "code",
   "execution_count": 11,
   "metadata": {},
   "outputs": [],
   "source": [
    "news_2020 = news1.drop_duplicates()[\"0\"]\n",
    "news_2021 = news2.drop_duplicates()[\"0\"]\n",
    "news_2022 = news3.drop_duplicates()[\"0\"]"
   ]
  },
  {
   "cell_type": "code",
   "execution_count": 12,
   "metadata": {},
   "outputs": [],
   "source": [
    "kipris_name = kipris.loc[kipris[\"상태\"]!=\"거절\"][\"발명의명칭\"].drop_duplicates()"
   ]
  },
  {
   "cell_type": "code",
   "execution_count": 13,
   "metadata": {},
   "outputs": [
    {
     "data": {
      "text/plain": [
       "((2850,), (2816,), (2852,), (5702,))"
      ]
     },
     "execution_count": 13,
     "metadata": {},
     "output_type": "execute_result"
    }
   ],
   "source": [
    "news_2020.shape, news_2021.shape, news_2022.shape, kipris_name.shape"
   ]
  },
  {
   "cell_type": "code",
   "execution_count": 14,
   "metadata": {},
   "outputs": [
    {
     "name": "stderr",
     "output_type": "stream",
     "text": [
      "/var/folders/k5/knpgq_1j4xg_p46vnk55j0gm0000gn/T/ipykernel_13244/3649413601.py:1: FutureWarning: The behavior of `series[i:j]` with an integer-dtype index is deprecated. In a future version, this will be treated as *label-based* indexing, consistent with e.g. `series[i]` lookups. To retain the old behavior, use `series.iloc[i:j]`. To get the future behavior, use `series.loc[i:j]`.\n",
      "  news_2020[0:10]\n"
     ]
    },
    {
     "data": {
      "text/plain": [
       "0               은평구, 반려동물 문화교실 '댕댕이 스쿨' 운영\n",
       "1        새해부터 반려동물 미용사·나무의사도 신중년 고용장려금 받는다\n",
       "2                          반려식물로 코로나 우울 해소\n",
       "3             “우리 아이와 반려동물, 함께 생활해도 괜찮을까?”\n",
       "4    [영상]반려동물 식품의 세계화 \"정부지원 받아 글로벌기업으로 우뚝\"\n",
       "5      배스 사들여 반려동물식품 제조…빈집 고쳐 장기거주 사회주택 제공\n",
       "6       반려동물도 코로나블루? 쿠쿠전자 넬로, 팻케어 제품 수요 증가\n",
       "7             2021년부터 동물보호법 상 맹견은 책임보험 의무화\n",
       "8                 [웰컴 투 펫팸] 반려동물도 쇼크로 쓰러진다\n",
       "9           지솔펫, 반려동물을 위한 살균·소독·향균 탈취제 선보여\n",
       "Name: 0, dtype: object"
      ]
     },
     "execution_count": 14,
     "metadata": {},
     "output_type": "execute_result"
    }
   ],
   "source": [
    "news_2020[0:10]"
   ]
  },
  {
   "cell_type": "code",
   "execution_count": 15,
   "metadata": {},
   "outputs": [
    {
     "data": {
      "text/plain": [
       "0       반려동물용 항산화 보조제 및 그 제조 방법(antioxidant supplement...\n",
       "2       반려동물의 3D 복원 및 감정 분석을 통한 컨텐츠 제공 서버, 사용자 단말 및 그 ...\n",
       "3       딥러닝을 이용한 반려동물 질환 추론 모듈 및 전자 장치(A method and el...\n",
       "4       스마트 반려동물 배변패드 처리장치(Smart companion animal defe...\n",
       "5       반려동물 위생 및 건강관리 기기장치(Sanitary Management and He...\n",
       "                              ...                        \n",
       "7474    펫 금융 계좌를 이용한 펫 금융 서비스 제공 장치 및 그 동작 방법(A pet fi...\n",
       "7476    맞춤형 추천 서비스를 제공하는 온라인 판매 방법(ONLINE SELLING METH...\n",
       "7477          자동 물내림 장치(Automatic toilet flushing device)\n",
       "7479    애완동물 리드줄 제어장치 및 방법(Method and Apparatus for co...\n",
       "7480    애완동물 커뮤니티 서비스를 제공하는 장치 및 방법(APPARATUS AND METH...\n",
       "Name: 발명의명칭, Length: 5702, dtype: object"
      ]
     },
     "execution_count": 15,
     "metadata": {},
     "output_type": "execute_result"
    }
   ],
   "source": [
    "kipris_name"
   ]
  },
  {
   "attachments": {},
   "cell_type": "markdown",
   "metadata": {},
   "source": [
    "### 한글 외 문자 제거"
   ]
  },
  {
   "cell_type": "code",
   "execution_count": 16,
   "metadata": {},
   "outputs": [
    {
     "name": "stderr",
     "output_type": "stream",
     "text": [
      "/var/folders/k5/knpgq_1j4xg_p46vnk55j0gm0000gn/T/ipykernel_13244/483319697.py:2: FutureWarning: The default value of regex will change from True to False in a future version.\n",
      "  news_2020 = news_2020.str.replace(\"[^ㄱ-ㅎㅏ-ㅣ가-힣 ]\",\"\")\n",
      "/var/folders/k5/knpgq_1j4xg_p46vnk55j0gm0000gn/T/ipykernel_13244/483319697.py:3: FutureWarning: The default value of regex will change from True to False in a future version.\n",
      "  news_2021 = news_2021.str.replace(\"[^ㄱ-ㅎㅏ-ㅣ가-힣 ]\",\"\")\n",
      "/var/folders/k5/knpgq_1j4xg_p46vnk55j0gm0000gn/T/ipykernel_13244/483319697.py:4: FutureWarning: The default value of regex will change from True to False in a future version.\n",
      "  news_2022 = news_2022.str.replace(\"[^ㄱ-ㅎㅏ-ㅣ가-힣 ]\",\"\")\n",
      "/var/folders/k5/knpgq_1j4xg_p46vnk55j0gm0000gn/T/ipykernel_13244/483319697.py:5: FutureWarning: The default value of regex will change from True to False in a future version.\n",
      "  kipris_name = kipris_name.str.replace(\"[^ㄱ-ㅎㅏ-ㅣ가-힣 ]\",\"\")\n"
     ]
    }
   ],
   "source": [
    "# 정규 표현식을 통한 한글 외 문자 제거\n",
    "news_2020 = news_2020.str.replace(\"[^ㄱ-ㅎㅏ-ㅣ가-힣 ]\",\"\")\n",
    "news_2021 = news_2021.str.replace(\"[^ㄱ-ㅎㅏ-ㅣ가-힣 ]\",\"\")\n",
    "news_2022 = news_2022.str.replace(\"[^ㄱ-ㅎㅏ-ㅣ가-힣 ]\",\"\")\n",
    "kipris_name = kipris_name.str.replace(\"[^ㄱ-ㅎㅏ-ㅣ가-힣 ]\",\"\")"
   ]
  },
  {
   "cell_type": "code",
   "execution_count": 17,
   "metadata": {},
   "outputs": [
    {
     "name": "stderr",
     "output_type": "stream",
     "text": [
      "/var/folders/k5/knpgq_1j4xg_p46vnk55j0gm0000gn/T/ipykernel_13244/3649413601.py:1: FutureWarning: The behavior of `series[i:j]` with an integer-dtype index is deprecated. In a future version, this will be treated as *label-based* indexing, consistent with e.g. `series[i]` lookups. To retain the old behavior, use `series.iloc[i:j]`. To get the future behavior, use `series.loc[i:j]`.\n",
      "  news_2020[0:10]\n"
     ]
    },
    {
     "data": {
      "text/plain": [
       "0               은평구 반려동물 문화교실 댕댕이 스쿨 운영\n",
       "1      새해부터 반려동물 미용사나무의사도 신중년 고용장려금 받는다\n",
       "2                       반려식물로 코로나 우울 해소\n",
       "3              우리 아이와 반려동물 함께 생활해도 괜찮을까\n",
       "4     영상반려동물 식품의 세계화 정부지원 받아 글로벌기업으로 우뚝\n",
       "5    배스 사들여 반려동물식품 제조빈집 고쳐 장기거주 사회주택 제공\n",
       "6      반려동물도 코로나블루 쿠쿠전자 넬로 팻케어 제품 수요 증가\n",
       "7              년부터 동물보호법 상 맹견은 책임보험 의무화\n",
       "8                웰컴 투 펫팸 반려동물도 쇼크로 쓰러진다\n",
       "9           지솔펫 반려동물을 위한 살균소독향균 탈취제 선보여\n",
       "Name: 0, dtype: object"
      ]
     },
     "execution_count": 17,
     "metadata": {},
     "output_type": "execute_result"
    }
   ],
   "source": [
    "news_2020[0:10]"
   ]
  },
  {
   "cell_type": "code",
   "execution_count": 18,
   "metadata": {},
   "outputs": [
    {
     "name": "stderr",
     "output_type": "stream",
     "text": [
      "/var/folders/k5/knpgq_1j4xg_p46vnk55j0gm0000gn/T/ipykernel_13244/1549287818.py:1: FutureWarning: The behavior of `series[i:j]` with an integer-dtype index is deprecated. In a future version, this will be treated as *label-based* indexing, consistent with e.g. `series[i]` lookups. To retain the old behavior, use `series.iloc[i:j]`. To get the future behavior, use `series.loc[i:j]`.\n",
      "  kipris_name[0:10]\n"
     ]
    },
    {
     "data": {
      "text/plain": [
       "0                       반려동물용 항산화 보조제 및 그 제조 방법        \n",
       "2     반려동물의  복원 및 감정 분석을 통한 컨텐츠 제공 서버 사용자 단말 및 그 방법 ...\n",
       "3              딥러닝을 이용한 반려동물 질환 추론 모듈 및 전자 장치          \n",
       "4                              스마트 반려동물 배변패드 처리장치      \n",
       "5                           반려동물 위생 및 건강관리 기기장치        \n",
       "6                       반려동물의 심리 및 성격유형검사 제공시스템        \n",
       "7                               반려동물 자동 배변 밀폐 처리장치     \n",
       "9                        반려동물 질병 추론 시스템 및 그 방법         \n",
       "10    광용적맥파를 이용한 반려동물 응급상황 모니터링 시스템 및 이의 동작 방법      ...\n",
       "11    반려동물 의료데이터 표준화 방법 및 장치 그리고 이를 이용한 반려동물 질병 발생 예...\n",
       "Name: 발명의명칭, dtype: object"
      ]
     },
     "execution_count": 18,
     "metadata": {},
     "output_type": "execute_result"
    }
   ],
   "source": [
    "kipris_name[0:10]"
   ]
  },
  {
   "attachments": {},
   "cell_type": "markdown",
   "metadata": {},
   "source": [
    "## Tokenizer"
   ]
  },
  {
   "cell_type": "code",
   "execution_count": 19,
   "metadata": {},
   "outputs": [
    {
     "name": "stderr",
     "output_type": "stream",
     "text": [
      "100%|██████████| 2850/2850 [00:03<00:00, 759.37it/s] \n"
     ]
    }
   ],
   "source": [
    "# 불용어 정의\n",
    "stopwords = ['의','가','이','은','들','는','좀','잘','걍','과','도','를','으로','자','에','와','한','하다', '및', '그', '방법', '년부터']\n",
    "\n",
    "# 형태소 분석기 OKT를 사용한 토큰화 작업 (다소 시간 소요)\n",
    "okt = Okt()\n",
    "\n",
    "tokenized_2020 = []\n",
    "for sentence in tqdm(news_2020):\n",
    "    tokenized_sentence = okt.morphs(sentence, stem=True) # 토큰화\n",
    "    stopwords_removed_sentence = [word for word in tokenized_sentence if not word in stopwords] # 불용어 제거\n",
    "    tokenized_2020.append(stopwords_removed_sentence)"
   ]
  },
  {
   "cell_type": "code",
   "execution_count": 20,
   "metadata": {},
   "outputs": [
    {
     "name": "stderr",
     "output_type": "stream",
     "text": [
      "100%|██████████| 2816/2816 [00:01<00:00, 1507.37it/s]\n"
     ]
    }
   ],
   "source": [
    "tokenized_2021 = []\n",
    "for sentence in tqdm(news_2021):\n",
    "    tokenized_sentence = okt.morphs(sentence, stem=True) # 토큰화\n",
    "    stopwords_removed_sentence = [word for word in tokenized_sentence if not word in stopwords] # 불용어 제거\n",
    "    tokenized_2021.append(stopwords_removed_sentence)"
   ]
  },
  {
   "cell_type": "code",
   "execution_count": 21,
   "metadata": {},
   "outputs": [
    {
     "name": "stderr",
     "output_type": "stream",
     "text": [
      "100%|██████████| 2852/2852 [00:02<00:00, 1339.83it/s]\n"
     ]
    }
   ],
   "source": [
    "tokenized_2022 = []\n",
    "for sentence in tqdm(news_2022):\n",
    "    tokenized_sentence = okt.morphs(sentence, stem=True) # 토큰화\n",
    "    stopwords_removed_sentence = [word for word in tokenized_sentence if not word in stopwords] # 불용어 제거\n",
    "    tokenized_2022.append(stopwords_removed_sentence)"
   ]
  },
  {
   "cell_type": "code",
   "execution_count": 22,
   "metadata": {},
   "outputs": [
    {
     "name": "stdout",
     "output_type": "stream",
     "text": [
      "기사의 최대 길이 : 16\n",
      "기사의 평균 길이 : 9.469122807017543\n"
     ]
    },
    {
     "data": {
      "image/png": "[encoded data removed]",
      "text/plain": [
       "<Figure size 640x480 with 1 Axes>"
      ]
     },
     "metadata": {},
     "output_type": "display_data"
    }
   ],
   "source": [
    "print('기사의 최대 길이 :',max(len(article) for article in tokenized_2020))\n",
    "print('기사의 평균 길이 :',sum(map(len, tokenized_2020))/len(tokenized_2020))\n",
    "plt.hist([len(article) for article in tokenized_2020], bins=100)\n",
    "plt.xlabel('length of samples')\n",
    "plt.ylabel('number of samples')\n",
    "plt.show()"
   ]
  },
  {
   "cell_type": "code",
   "execution_count": 23,
   "metadata": {},
   "outputs": [
    {
     "name": "stdout",
     "output_type": "stream",
     "text": [
      "['은평구', '반려동물', '문화', '교실', '댕댕', '스쿨', '운영', '새해', '부터', '반려동물']\n"
     ]
    }
   ],
   "source": [
    "# 단어 집합(Vocabulary)을 만들기 위해서 문장의 경계인 [, ]를 제거하고 단어들을 하나의 리스트로 만든다.\n",
    "vocab_2020 = sum(tokenized_2020, [])\n",
    "print(vocab_2020[:10])"
   ]
  },
  {
   "cell_type": "code",
   "execution_count": 24,
   "metadata": {},
   "outputs": [
    {
     "name": "stdout",
     "output_type": "stream",
     "text": [
      "['이재명', '코로나', '거점', '전담', '병원', '방문', '반려동물', '유튜브', '출연', '반려동물']\n"
     ]
    }
   ],
   "source": [
    "vocab_2021 = sum(tokenized_2021, [])\n",
    "print(vocab_2021[:10])"
   ]
  },
  {
   "cell_type": "code",
   "execution_count": 25,
   "metadata": {},
   "outputs": [
    {
     "name": "stdout",
     "output_type": "stream",
     "text": [
      "['대통령', '은퇴', '안내견', '입양', '관저', '번째', '동물', '식구', '종합', '윤']\n"
     ]
    }
   ],
   "source": [
    "vocab_2022 = sum(tokenized_2022, [])\n",
    "print(vocab_2022[:10])"
   ]
  },
  {
   "attachments": {},
   "cell_type": "markdown",
   "metadata": {},
   "source": [
    "### 빈도 수 분석"
   ]
  },
  {
   "cell_type": "code",
   "execution_count": 26,
   "metadata": {},
   "outputs": [],
   "source": [
    "from collections import Counter\n",
    "def top_20_words(tokens):\n",
    "    word_counts = Counter(tokens)\n",
    "    return word_counts.most_common(20)"
   ]
  },
  {
   "cell_type": "code",
   "execution_count": 27,
   "metadata": {},
   "outputs": [
    {
     "data": {
      "text/plain": [
       "[('반려동물', 2261),\n",
       " ('펫', 337),\n",
       " ('동물', 180),\n",
       " ('반려', 159),\n",
       " ('위', 152),\n",
       " ('문화', 135),\n",
       " ('건강', 133),\n",
       " ('센터', 122),\n",
       " ('출시', 119),\n",
       " ('로', 116),\n",
       " ('코로나', 112),\n",
       " ('비', 111),\n",
       " ('을', 106),\n",
       " ('서비스', 104),\n",
       " ('강아지', 101),\n",
       " ('제', 100),\n",
       " ('무료', 99),\n",
       " ('개', 96),\n",
       " ('고양이', 94),\n",
       " ('분양', 94)]"
      ]
     },
     "execution_count": 27,
     "metadata": {},
     "output_type": "execute_result"
    }
   ],
   "source": [
    "top_20_words(vocab_2020)"
   ]
  },
  {
   "cell_type": "code",
   "execution_count": 28,
   "metadata": {},
   "outputs": [
    {
     "data": {
      "text/plain": [
       "[('반려동물', 2073),\n",
       " ('펫', 276),\n",
       " ('동물', 244),\n",
       " ('대', 173),\n",
       " ('반려', 155),\n",
       " ('위', 145),\n",
       " ('건강', 129),\n",
       " ('로', 126),\n",
       " ('문화', 124),\n",
       " ('센터', 121),\n",
       " ('함께', 103),\n",
       " ('년', 99),\n",
       " ('개', 96),\n",
       " ('을', 92),\n",
       " ('시장', 89),\n",
       " ('산업', 88),\n",
       " ('이야기', 85),\n",
       " ('등록', 82),\n",
       " ('화', 81),\n",
       " ('만', 80)]"
      ]
     },
     "execution_count": 28,
     "metadata": {},
     "output_type": "execute_result"
    }
   ],
   "source": [
    "top_20_words(vocab_2021)"
   ]
  },
  {
   "cell_type": "code",
   "execution_count": 29,
   "metadata": {},
   "outputs": [
    {
     "data": {
      "text/plain": [
       "[('반려동물', 2284),\n",
       " ('펫', 338),\n",
       " ('동물', 303),\n",
       " ('문화', 206),\n",
       " ('반려', 156),\n",
       " ('개최', 137),\n",
       " ('위', 130),\n",
       " ('센터', 126),\n",
       " ('함께', 120),\n",
       " ('동물복지', 116),\n",
       " ('지원', 115),\n",
       " ('제', 115),\n",
       " ('대상', 113),\n",
       " ('출시', 112),\n",
       " ('로', 110),\n",
       " ('대', 110),\n",
       " ('건강', 103),\n",
       " ('비', 101),\n",
       " ('을', 99),\n",
       " ('산업', 95)]"
      ]
     },
     "execution_count": 29,
     "metadata": {},
     "output_type": "execute_result"
    }
   ],
   "source": [
    "top_20_words(vocab_2022)"
   ]
  },
  {
   "cell_type": "code",
   "execution_count": 30,
   "metadata": {},
   "outputs": [
    {
     "name": "stdout",
     "output_type": "stream",
     "text": [
      "('반려동물', 2261)\n",
      "('동물', 180)\n",
      "('반려', 159)\n",
      "('문화', 135)\n",
      "('건강', 133)\n",
      "('센터', 122)\n",
      "('출시', 119)\n",
      "('코로나', 112)\n",
      "('서비스', 104)\n",
      "('강아지', 101)\n",
      "('무료', 99)\n",
      "('고양이', 94)\n",
      "('분양', 94)\n",
      "('진료', 90)\n",
      "('입양', 80)\n",
      "('지원', 78)\n",
      "('온라인', 77)\n",
      "('한국', 76)\n",
      "('개최', 76)\n",
      "('자격증', 75)\n",
      "('산업', 74)\n",
      "('유기동물', 73)\n",
      "('용품', 71)\n",
      "('관리사', 71)\n",
      "('대상', 70)\n",
      "('경기도', 70)\n",
      "('동물농장', 68)\n",
      "('케어', 67)\n",
      "('보호', 67)\n",
      "('진행', 67)\n",
      "('경남', 67)\n",
      "('이야기', 66)\n",
      "('시장', 65)\n",
      "('전문', 65)\n",
      "('이벤트', 64)\n",
      "('사료', 64)\n",
      "('보험', 62)\n",
      "('동물병원', 61)\n",
      "('브랜드', 61)\n",
      "('시대', 61)\n",
      "('사회', 57)\n",
      "('기업', 54)\n",
      "('펫시터', 51)\n",
      "('수강', 51)\n",
      "('반려견', 50)\n",
      "('부터', 49)\n",
      "('진흥', 48)\n",
      "('실시', 48)\n",
      "('놀이터', 48)\n",
      "('운영', 47)\n"
     ]
    }
   ],
   "source": [
    "# 명사만 추출해보자\n",
    "# nouns라는 편리한 함수가 있으니 명사 빈도 계산은 코드 몇줄이면 끝난다. \n",
    "#출처: https://liveyourit.tistory.com/57\n",
    "\n",
    "# \"phrase input should be string, not <class 'list'>\" 에러 해결해주기 위해 넣었습니다.\n",
    "phrase_string = \" \".join(vocab_2020)\n",
    "\n",
    "# okt 객체 생성\n",
    "okt = Okt()\n",
    "noun = okt.nouns(phrase_string)\n",
    "for i,v in enumerate(noun):\n",
    "\tif len(v)<2:\n",
    "\t\tnoun.pop(i)\n",
    "count = Counter(noun)\n",
    "\t\n",
    "\n",
    "# 명사 빈도 카운트\n",
    "noun_list = count.most_common(50)\n",
    "for v in noun_list:\n",
    "\tprint(v)"
   ]
  },
  {
   "cell_type": "code",
   "execution_count": 31,
   "metadata": {},
   "outputs": [
    {
     "name": "stdout",
     "output_type": "stream",
     "text": [
      "('반려동물', 2073)\n",
      "('동물', 244)\n",
      "('반려', 155)\n",
      "('건강', 129)\n",
      "('문화', 124)\n",
      "('센터', 121)\n",
      "('시장', 89)\n",
      "('산업', 88)\n",
      "('이야기', 85)\n",
      "('등록', 82)\n",
      "('출시', 79)\n",
      "('지원', 72)\n",
      "('보건', 71)\n",
      "('플랫폼', 68)\n",
      "('브랜드', 67)\n",
      "('개최', 67)\n",
      "('동물병원', 66)\n",
      "('진료', 65)\n",
      "('파크', 65)\n",
      "('사랑', 64)\n",
      "('대상', 61)\n",
      "('사업', 60)\n",
      "('고양이', 60)\n",
      "('사료', 59)\n",
      "('투자', 57)\n",
      "('기업', 57)\n",
      "('케어', 56)\n",
      "('생활', 54)\n",
      "('테마', 54)\n",
      "('오픈', 53)\n",
      "('전용', 52)\n",
      "('의원', 52)\n",
      "('코로나', 50)\n",
      "('최초', 49)\n",
      "('입양', 48)\n",
      "('개발', 48)\n",
      "('공개', 48)\n",
      "('학교', 48)\n",
      "('유기동물', 46)\n",
      "('진행', 46)\n",
      "('운영', 44)\n",
      "('펫', 44)\n",
      "('양성', 44)\n",
      "('선정', 43)\n",
      "('보호', 43)\n",
      "('캠페인', 43)\n",
      "('부산', 43)\n",
      "('서울', 43)\n",
      "('개장', 43)\n",
      "('동반', 42)\n"
     ]
    }
   ],
   "source": [
    "phrase_string = \" \".join(vocab_2021)\n",
    "\n",
    "# okt 객체 생성\n",
    "okt = Okt()\n",
    "noun = okt.nouns(phrase_string)\n",
    "for i,v in enumerate(noun):\n",
    "\tif len(v)<2:\n",
    "\t\tnoun.pop(i)\n",
    "count = Counter(noun)\n",
    "\t\n",
    "\n",
    "# 명사 빈도 카운트\n",
    "noun_list = count.most_common(50)\n",
    "for v in noun_list:\n",
    "\tprint(v)"
   ]
  },
  {
   "cell_type": "code",
   "execution_count": 32,
   "metadata": {},
   "outputs": [
    {
     "name": "stdout",
     "output_type": "stream",
     "text": [
      "('반려동물', 2284)\n",
      "('동물', 303)\n",
      "('문화', 206)\n",
      "('반려', 156)\n",
      "('개최', 137)\n",
      "('센터', 126)\n",
      "('동물복지', 116)\n",
      "('지원', 115)\n",
      "('대상', 113)\n",
      "('출시', 112)\n",
      "('건강', 103)\n",
      "('산업', 95)\n",
      "('사업', 91)\n",
      "('입양', 87)\n",
      "('수상', 82)\n",
      "('진행', 78)\n",
      "('시장', 76)\n",
      "('케어', 74)\n",
      "('유기동물', 73)\n",
      "('서비스', 73)\n",
      "('용품', 71)\n",
      "('축제', 70)\n",
      "('보호', 64)\n",
      "('이야기', 60)\n",
      "('사랑', 60)\n",
      "('등록', 59)\n",
      "('협약', 56)\n",
      "('한국', 55)\n",
      "('의료', 54)\n",
      "('사료', 53)\n",
      "('교육', 52)\n",
      "('할인', 52)\n",
      "('신설', 51)\n",
      "('조성', 51)\n",
      "('보험', 51)\n",
      "('의원', 51)\n",
      "('반려견', 51)\n",
      "('페어', 51)\n",
      "('관리', 50)\n",
      "('강화', 47)\n",
      "('농식품부', 46)\n",
      "('브랜드', 45)\n",
      "('볼보', 44)\n",
      "('기부', 44)\n",
      "('동물병원', 44)\n",
      "('바이오', 44)\n",
      "('펫', 44)\n",
      "('판매', 44)\n",
      "('대한민국', 44)\n",
      "('가구', 44)\n"
     ]
    }
   ],
   "source": [
    "phrase_string = \" \".join(vocab_2022)\n",
    "\n",
    "# okt 객체 생성\n",
    "okt = Okt()\n",
    "noun = okt.nouns(phrase_string)\n",
    "for i,v in enumerate(noun):\n",
    "\tif len(v)<2:\n",
    "\t\tnoun.pop(i)\n",
    "count = Counter(noun)\n",
    "\t\n",
    "\n",
    "# 명사 빈도 카운트\n",
    "noun_list = count.most_common(50)\n",
    "for v in noun_list:\n",
    "\tprint(v)"
   ]
  },
  {
   "attachments": {},
   "cell_type": "markdown",
   "metadata": {},
   "source": [
    "### TF-idf 분석"
   ]
  },
  {
   "cell_type": "code",
   "execution_count": 33,
   "metadata": {},
   "outputs": [
    {
     "name": "stdout",
     "output_type": "stream",
     "text": [
      "반려동물 : 0.05446484055489493\n",
      "위한 : 0.009834034999666863\n",
      "출시 : 0.009759651926639816\n",
      "반려동물과 : 0.008935466575027829\n",
      "진료비 : 0.008108115555480098\n",
      "개최 : 0.00738745897457892\n",
      "코로나 : 0.007179471301060291\n",
      "서비스 : 0.007147218109288618\n",
      "반려동물관리사 : 0.007065611575059009\n",
      "자격증 : 0.006505955025716641\n",
      "온라인 : 0.006465454786540613\n",
      "진행 : 0.0061482126821783\n",
      "경기도 : 0.006084417096814559\n",
      "이벤트 : 0.005871065384893169\n",
      "무료수강 : 0.005693812981664741\n",
      "함께 : 0.005670800635682332\n",
      "펫시터 : 0.0056608727632503\n",
      "건강이야기 : 0.005470230284373847\n",
      "실시 : 0.005280478070571326\n",
      "사료 : 0.004865291404683458\n",
      "지원 : 0.004804021795079186\n",
      "조윤희 : 0.004773480213864863\n",
      "운영 : 0.004615941164580077\n",
      "반려동물도 : 0.004591055149578036\n",
      "강아지 : 0.004541098949117152\n",
      "문화교실 : 0.004470309607625741\n",
      "시대 : 0.004444989947418599\n",
      "동물농장 : 0.004402409323173189\n",
      "브랜드 : 0.004358938806170384\n",
      "경남도 : 0.004294880593140744\n",
      "한국장학진흥원 : 0.004240008166934745\n",
      "유기동물 : 0.004173544872829373\n",
      "시장 : 0.004128259756433366\n",
      "동반 : 0.0041102384600556615\n",
      "관련 : 0.004093617664964687\n",
      "수상 : 0.004027456663282446\n",
      "자율표시제 : 0.003971010403991129\n",
      "반려인 : 0.0038249912295359218\n",
      "대한민국 : 0.0037723358944704586\n",
      "확진자 : 0.003757267458005616\n",
      "고양이 : 0.003725336638856956\n",
      "놀이터 : 0.0037159166029498997\n",
      "다이어리 : 0.0037031905987585352\n",
      "동물병원 : 0.003676209124012913\n",
      "동물 : 0.0035903036758869328\n",
      "국내 : 0.003454745650880013\n",
      "인기 : 0.003448998140334461\n",
      "영업장 : 0.0034316019324644896\n",
      "동물복지대상 : 0.00341986345189722\n",
      "할인 : 0.0034155909802555465\n"
     ]
    },
    {
     "name": "stderr",
     "output_type": "stream",
     "text": [
      "/Users/moksu/miniforge3/envs/lion/lib/python3.9/site-packages/sklearn/utils/deprecation.py:87: FutureWarning: Function get_feature_names is deprecated; get_feature_names is deprecated in 1.0 and will be removed in 1.2. Please use get_feature_names_out instead.\n",
      "  warnings.warn(msg, category=FutureWarning)\n"
     ]
    }
   ],
   "source": [
    "from sklearn.feature_extraction.text import TfidfVectorizer\n",
    "\n",
    "# Create a TfidfVectorizer object\n",
    "vectorizer = TfidfVectorizer()\n",
    "\n",
    "# Use the fit_transform method to calculate the TF-IDF matrix\n",
    "tfidf_matrix = vectorizer.fit_transform(news_2020)\n",
    "\n",
    "# Get the feature names (the words)\n",
    "feature_names = vectorizer.get_feature_names()\n",
    "\n",
    "# Calculate the mean TF-IDF value for each word\n",
    "mean_tfidf = np.mean(tfidf_matrix, axis=0)\n",
    "\n",
    "# Zip the feature names and mean TF-IDF values together\n",
    "mean_tfidf_by_word = zip(feature_names, mean_tfidf.A1)\n",
    "\n",
    "# Sort the words by their mean TF-IDF value in descending order\n",
    "sorted_mean_tfidf_by_word = sorted(mean_tfidf_by_word, key=lambda x: x[1], reverse=True)\n",
    "\n",
    "# Select the top 10 words with the highest mean TF-IDF value\n",
    "top_50_words = sorted_mean_tfidf_by_word[:50]\n",
    "\n",
    "# Print the top 50 words with the highest mean TF-IDF value\n",
    "for word, mean_tfidf in top_50_words:\n",
    "    print(word, \":\", mean_tfidf)\n"
   ]
  },
  {
   "cell_type": "code",
   "execution_count": 34,
   "metadata": {},
   "outputs": [
    {
     "name": "stdout",
     "output_type": "stream",
     "text": [
      "반려동물 : 0.05399666338796612\n",
      "반려동물과 : 0.010721805575427144\n",
      "위한 : 0.00962305484907463\n",
      "출시 : 0.00782941032956992\n",
      "개최 : 0.0071761268941570285\n",
      "시장 : 0.006750266211275016\n",
      "함께 : 0.0066658972218372765\n",
      "건강이야기 : 0.006427708068982272\n",
      "플랫폼 : 0.006423430344001101\n",
      "브랜드 : 0.006065150785593166\n",
      "진행 : 0.004867294887048543\n",
      "오픈 : 0.004814665997033817\n",
      "동물병원 : 0.004716149255536746\n",
      "개장 : 0.004703222983265866\n",
      "전용 : 0.004701907850678064\n",
      "캠페인 : 0.0046622604254398245\n",
      "론칭 : 0.004609243714660469\n",
      "최초 : 0.004582641091689589\n",
      "사료 : 0.004524286057893107\n",
      "투자 : 0.004355661671627481\n",
      "대한민국 : 0.004354478363361832\n",
      "코로나 : 0.0043533786115853715\n",
      "국내 : 0.004298431118517434\n",
      "대전시 : 0.0042764167388587805\n",
      "등록 : 0.0042717766095973515\n",
      "개발 : 0.00424585012672943\n",
      "실시 : 0.004230793537678609\n",
      "이벤트 : 0.004194770985075885\n",
      "동물 : 0.004092449320449038\n",
      "선정 : 0.004061122579113413\n",
      "진료비 : 0.004059176886873737\n",
      "대구보건대 : 0.004052117216341249\n",
      "산업 : 0.004039329488081472\n",
      "유기동물 : 0.0040209253132553295\n",
      "운영 : 0.003989630963974195\n",
      "문화 : 0.003907779344170806\n",
      "관련 : 0.003785839348779723\n",
      "지원 : 0.0037229085976310055\n",
      "공개 : 0.0036536670909441222\n",
      "동물보건사 : 0.0036248412556771216\n",
      "이재명 : 0.003621820345441587\n",
      "서비스 : 0.0036078870826878953\n",
      "수상 : 0.00358136055060666\n",
      "특수학교 : 0.003534286518768868\n",
      "함께하는 : 0.0034705210828000366\n",
      "리테일 : 0.003434371181788115\n",
      "놀이터 : 0.0034317832183589354\n",
      "추진 : 0.0033798679512256884\n",
      "목포시 : 0.0032213947325955674\n",
      "미등록 : 0.0032168730136369794\n"
     ]
    }
   ],
   "source": [
    "# Create a TfidfVectorizer object\n",
    "vectorizer = TfidfVectorizer()\n",
    "\n",
    "# Use the fit_transform method to calculate the TF-IDF matrix\n",
    "tfidf_matrix = vectorizer.fit_transform(news_2021)\n",
    "\n",
    "# Get the feature names (the words)\n",
    "feature_names = vectorizer.get_feature_names()\n",
    "\n",
    "# Calculate the mean TF-IDF value for each word\n",
    "mean_tfidf = np.mean(tfidf_matrix, axis=0)\n",
    "\n",
    "# Zip the feature names and mean TF-IDF values together\n",
    "mean_tfidf_by_word = zip(feature_names, mean_tfidf.A1)\n",
    "\n",
    "# Sort the words by their mean TF-IDF value in descending order\n",
    "sorted_mean_tfidf_by_word = sorted(mean_tfidf_by_word, key=lambda x: x[1], reverse=True)\n",
    "\n",
    "# Select the top 10 words with the highest mean TF-IDF value\n",
    "top_50_words = sorted_mean_tfidf_by_word[:50]\n",
    "\n",
    "# Print the top 50 words with the highest mean TF-IDF value\n",
    "for word, mean_tfidf in top_50_words:\n",
    "    print(word, \":\", mean_tfidf)\n"
   ]
  },
  {
   "cell_type": "code",
   "execution_count": 35,
   "metadata": {},
   "outputs": [
    {
     "name": "stdout",
     "output_type": "stream",
     "text": [
      "반려동물 : 0.05506711126279484\n",
      "개최 : 0.012457359797208394\n",
      "위한 : 0.009877727397246053\n",
      "반려동물과 : 0.00982451988445653\n",
      "출시 : 0.009489765543352539\n",
      "수상 : 0.008083720740283604\n",
      "진행 : 0.007330509424924999\n",
      "함께 : 0.0071365483843266585\n",
      "동물 : 0.0068114355237034446\n",
      "서비스 : 0.006229080202587835\n",
      "유기동물 : 0.00614084084540308\n",
      "대상 : 0.006032675683767411\n",
      "지원 : 0.005764637916204948\n",
      "대한민국 : 0.005668353436081098\n",
      "시장 : 0.005344785546405977\n",
      "건강이야기 : 0.0052843081524209514\n",
      "할인 : 0.004922138652676358\n",
      "농식품부 : 0.0046112343092192054\n",
      "함께하는 : 0.004559576797914397\n",
      "영양제 : 0.004470767951034717\n",
      "제회 : 0.004429556495186699\n",
      "체결 : 0.0043054350080809324\n",
      "문화축제 : 0.004259168367622038\n",
      "문화대상 : 0.0041353230946559755\n",
      "추진 : 0.004093701884079099\n",
      "문화교실 : 0.004035235328225656\n",
      "반려동물보건학과 : 0.004020075537005387\n",
      "업무협약 : 0.00398925655541021\n",
      "운영 : 0.0039863489023707205\n",
      "위해 : 0.0039376197270464455\n",
      "헬스케어 : 0.003910100349959002\n",
      "캠페인 : 0.003849944130983003\n",
      "부문 : 0.0038441177352625945\n",
      "브랜드 : 0.003809796613565391\n",
      "강화 : 0.003742844655035862\n",
      "조성 : 0.003697346539200879\n",
      "쿠팡 : 0.0036853448500985407\n",
      "신설 : 0.0036651660191258347\n",
      "반려견 : 0.0036532942068083726\n",
      "문화 : 0.003648018354396191\n",
      "입양 : 0.0036401679560110574\n",
      "의원 : 0.003634896368015341\n",
      "진료비 : 0.003627482555566609\n",
      "가구 : 0.0036211041682724368\n",
      "기부 : 0.003583963534438631\n",
      "펫페어 : 0.003477685308613762\n",
      "겨울 : 0.0034326899555054136\n",
      "동물복지 : 0.0034134814432749535\n",
      "핏펫 : 0.0033885852170441972\n",
      "산업 : 0.00337328770891113\n"
     ]
    }
   ],
   "source": [
    "# Create a TfidfVectorizer object\n",
    "vectorizer = TfidfVectorizer()\n",
    "\n",
    "# Use the fit_transform method to calculate the TF-IDF matrix\n",
    "tfidf_matrix = vectorizer.fit_transform(news_2022)\n",
    "\n",
    "# Get the feature names (the words)\n",
    "feature_names = vectorizer.get_feature_names()\n",
    "\n",
    "# Calculate the mean TF-IDF value for each word\n",
    "mean_tfidf = np.mean(tfidf_matrix, axis=0)\n",
    "\n",
    "# Zip the feature names and mean TF-IDF values together\n",
    "mean_tfidf_by_word = zip(feature_names, mean_tfidf.A1)\n",
    "\n",
    "# Sort the words by their mean TF-IDF value in descending order\n",
    "sorted_mean_tfidf_by_word = sorted(mean_tfidf_by_word, key=lambda x: x[1], reverse=True)\n",
    "\n",
    "# Select the top 10 words with the highest mean TF-IDF value\n",
    "top_50_words = sorted_mean_tfidf_by_word[:50]\n",
    "\n",
    "# Print the top 50 words with the highest mean TF-IDF value\n",
    "for word, mean_tfidf in top_50_words:\n",
    "    print(word, \":\", mean_tfidf)\n"
   ]
  },
  {
   "attachments": {},
   "cell_type": "markdown",
   "metadata": {},
   "source": [
    "### Word2Vec 모델링"
   ]
  },
  {
   "cell_type": "code",
   "execution_count": 43,
   "metadata": {},
   "outputs": [],
   "source": [
    "model = Word2Vec(sentences = tokenized_2020, window = 5, min_count = 5, workers = 4, sg = 0)"
   ]
  },
  {
   "cell_type": "code",
   "execution_count": 44,
   "metadata": {},
   "outputs": [
    {
     "data": {
      "text/plain": [
       "(1141, 100)"
      ]
     },
     "execution_count": 44,
     "metadata": {},
     "output_type": "execute_result"
    }
   ],
   "source": [
    "# 완성된 임베딩 매트릭스의 크기 확인\n",
    "model.wv.vectors.shape"
   ]
  },
  {
   "cell_type": "code",
   "execution_count": 45,
   "metadata": {},
   "outputs": [
    {
     "name": "stdout",
     "output_type": "stream",
     "text": [
      "[('동물', 0.9997969269752502), ('펫', 0.9997785687446594), ('까지', 0.9997518062591553), ('반려견', 0.9997384548187256), ('위', 0.9997321367263794), ('대', 0.9997292757034302), ('되다', 0.9997110366821289), ('로', 0.9997102618217468), ('반려', 0.9997072815895081), ('출시', 0.9997003674507141)]\n"
     ]
    }
   ],
   "source": [
    "print(model.wv.most_similar(\"반려동물\"))"
   ]
  },
  {
   "cell_type": "code",
   "execution_count": 46,
   "metadata": {},
   "outputs": [
    {
     "name": "stdout",
     "output_type": "stream",
     "text": [
      "[('반려동물', 0.9997788071632385), ('동물', 0.9997220635414124), ('반려', 0.9997072815895081), ('위', 0.999695360660553), ('함께', 0.9996848106384277), ('산업', 0.9996805191040039), ('까지', 0.999672532081604), ('일', 0.9996718764305115), ('출시', 0.9996606707572937), ('서비스', 0.9996605515480042)]\n"
     ]
    }
   ],
   "source": [
    "print(model.wv.most_similar(\"펫\"))"
   ]
  },
  {
   "cell_type": "code",
   "execution_count": 47,
   "metadata": {},
   "outputs": [
    {
     "name": "stdout",
     "output_type": "stream",
     "text": [
      "[('반려동물', 0.9996925592422485), ('펫', 0.9996805191040039), ('동물', 0.9996515512466431), ('개', 0.9996510148048401), ('함께', 0.9996203780174255), ('까지', 0.9996151924133301), ('로', 0.9996067881584167), ('일', 0.9996060132980347), ('센터', 0.9996055364608765), ('연', 0.9996019005775452)]\n"
     ]
    }
   ],
   "source": [
    "print(model.wv.most_similar(\"산업\"))"
   ]
  }
 ],
 "metadata": {
  "kernelspec": {
   "display_name": "lion",
   "language": "python",
   "name": "python3"
  },
  "language_info": {
   "codemirror_mode": {
    "name": "ipython",
    "version": 3
   },
   "file_extension": ".py",
   "mimetype": "text/x-python",
   "name": "python",
   "nbconvert_exporter": "python",
   "pygments_lexer": "ipython3",
   "version": "3.9.15"
  },
  "orig_nbformat": 4,
  "vscode": {
   "interpreter": {
    "hash": "f2535503e00e64e6c766cdaf2522146fb194dd032ceec221dd775fc338c30be3"
   }
  }
 },
 "nbformat": 4,
 "nbformat_minor": 2
}
