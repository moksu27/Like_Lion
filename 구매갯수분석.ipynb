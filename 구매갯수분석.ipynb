{
 "cells": [
  {
   "cell_type": "code",
   "execution_count": 12,
   "metadata": {},
   "outputs": [],
   "source": [
    "import glob\n",
    "import pandas as pd\n",
    "import seaborn as sns\n",
    "import matplotlib.pyplot as plt\n",
    "import koreanize_matplotlib"
   ]
  },
  {
   "cell_type": "code",
   "execution_count": 13,
   "metadata": {},
   "outputs": [],
   "source": [
    "%config InlineBackend.figure_format = 'retina'"
   ]
  },
  {
   "cell_type": "code",
   "execution_count": 14,
   "metadata": {},
   "outputs": [
    {
     "data": {
      "text/plain": [
       "['./data/olist_sellers_dataset.csv',\n",
       " './data/product_category_name_translation.csv',\n",
       " './data/olist_orders_dataset.csv',\n",
       " './data/olist_order_items_dataset.csv',\n",
       " './data/olist_customers_dataset.csv',\n",
       " './data/olist_geolocation_dataset.csv',\n",
       " './data/olist_order_payments_dataset.csv',\n",
       " './data/olist_order_reviews_dataset.csv',\n",
       " './data/olist_products_dataset.csv']"
      ]
     },
     "execution_count": 14,
     "metadata": {},
     "output_type": "execute_result"
    }
   ],
   "source": [
    "file = glob.glob('./data/*.csv')\n",
    "file"
   ]
  },
  {
   "cell_type": "code",
   "execution_count": 15,
   "metadata": {},
   "outputs": [],
   "source": [
    "seller_data = pd.read_csv(file[0])\n",
    "product_category = pd.read_csv(file[1])\n",
    "orders_data  = pd.read_csv(file[2])\n",
    "items_data = pd.read_csv(file[3])\n",
    "customer_data = pd.read_csv(file[4])\n",
    "geolocation_data = pd.read_csv(file[5])\n",
    "payments_data = pd.read_csv(file[6])\n",
    "reviews_data  = pd.read_csv(file[7])\n",
    "prodcuts_data = pd.read_csv(file[8])"
   ]
  },
  {
   "cell_type": "code",
   "execution_count": 16,
   "metadata": {},
   "outputs": [],
   "source": [
    "reviews_df = reviews_data[[\"order_id\",\"review_score\"]]\n",
    "orders_df = orders_data[[\"order_id\",\"customer_id\", \"order_purchase_timestamp\", \"order_estimated_delivery_date\"]]\n",
    "items_df = items_data[[\"order_id\",\"price\",\"freight_value\"]]"
   ]
  },
  {
   "cell_type": "code",
   "execution_count": 17,
   "metadata": {},
   "outputs": [],
   "source": [
    "reviews_orders = pd.merge(orders_df, reviews_df, on = \"order_id\", how =\"outer\")"
   ]
  },
  {
   "cell_type": "code",
   "execution_count": 18,
   "metadata": {},
   "outputs": [],
   "source": [
    "iro_df = pd.merge(items_df, reviews_orders, on = \"order_id\", how=\"outer\")\n"
   ]
  },
  {
   "cell_type": "code",
   "execution_count": 19,
   "metadata": {},
   "outputs": [],
   "source": [
    "iro_df[\"order_purchase_date\"] = pd.to_datetime(iro_df[\"order_purchase_timestamp\"])\n",
    "iro_df[\"order_delivery_date\"] = pd.to_datetime(iro_df[\"order_estimated_delivery_date\"])"
   ]
  },
  {
   "cell_type": "code",
   "execution_count": 20,
   "metadata": {},
   "outputs": [],
   "source": [
    "iro_df[\"delivery_period\"] = iro_df[\"order_delivery_date\"]-iro_df[\"order_purchase_date\"]"
   ]
  },
  {
   "cell_type": "code",
   "execution_count": 21,
   "metadata": {},
   "outputs": [],
   "source": [
    "iro_df[\"purchase_date\"] = iro_df[\"order_purchase_date\"].dt.strftime('%Y/%m/%d')"
   ]
  },
  {
   "cell_type": "code",
   "execution_count": 22,
   "metadata": {},
   "outputs": [],
   "source": [
    "iro_df = iro_df.drop(columns = [\"order_purchase_timestamp\",\"order_estimated_delivery_date\",\"order_purchase_date\",\"order_delivery_date\"])\n",
    "iro_df[\"delivery_period\"] = iro_df[\"delivery_period\"].dt.days"
   ]
  },
  {
   "cell_type": "code",
   "execution_count": 23,
   "metadata": {},
   "outputs": [],
   "source": [
    "customer_unique = iro_df[\"customer_id\"].unique()\n",
    "customer_unique = customer_unique.tolist()"
   ]
  },
  {
   "cell_type": "code",
   "execution_count": 24,
   "metadata": {},
   "outputs": [],
   "source": [
    "def customer_id (customer_id, customer_unique):\n",
    "    num = 1\n",
    "    for i in (customer_unique):\n",
    "        if customer_id == i:\n",
    "            return f\"id_{num}\"\n",
    "        num += 1"
   ]
  },
  {
   "cell_type": "code",
   "execution_count": 25,
   "metadata": {},
   "outputs": [],
   "source": [
    "iro_df[\"customer_id\"] = iro_df[\"customer_id\"].apply(lambda x: customer_id(x, customer_unique))"
   ]
  },
  {
   "cell_type": "code",
   "execution_count": 26,
   "metadata": {},
   "outputs": [
    {
     "name": "stderr",
     "output_type": "stream",
     "text": [
      "/var/folders/k5/knpgq_1j4xg_p46vnk55j0gm0000gn/T/ipykernel_86334/1896178995.py:1: FutureWarning: The default value of numeric_only in DataFrameGroupBy.mean is deprecated. In a future version, numeric_only will default to False. Either specify numeric_only or select only columns which should be valid for the function.\n",
      "  iro_dfg2 = iro_df.groupby(by = [\"customer_id\"]).mean()\n"
     ]
    }
   ],
   "source": [
    "iro_dfg2 = iro_df.groupby(by = [\"customer_id\"]).mean()"
   ]
  },
  {
   "cell_type": "code",
   "execution_count": 31,
   "metadata": {},
   "outputs": [
    {
     "data": {
      "text/html": [
       "<div>\n",
       "<style scoped>\n",
       "    .dataframe tbody tr th:only-of-type {\n",
       "        vertical-align: middle;\n",
       "    }\n",
       "\n",
       "    .dataframe tbody tr th {\n",
       "        vertical-align: top;\n",
       "    }\n",
       "\n",
       "    .dataframe thead th {\n",
       "        text-align: right;\n",
       "    }\n",
       "</style>\n",
       "<table border=\"1\" class=\"dataframe\">\n",
       "  <thead>\n",
       "    <tr style=\"text-align: right;\">\n",
       "      <th></th>\n",
       "      <th>price</th>\n",
       "      <th>freight_value</th>\n",
       "      <th>review_score</th>\n",
       "      <th>delivery_period</th>\n",
       "    </tr>\n",
       "    <tr>\n",
       "      <th>customer_id</th>\n",
       "      <th></th>\n",
       "      <th></th>\n",
       "      <th></th>\n",
       "      <th></th>\n",
       "    </tr>\n",
       "  </thead>\n",
       "  <tbody>\n",
       "    <tr>\n",
       "      <th>id_1</th>\n",
       "      <td>58.90</td>\n",
       "      <td>13.29</td>\n",
       "      <td>5.0</td>\n",
       "      <td>15.0</td>\n",
       "    </tr>\n",
       "    <tr>\n",
       "      <th>id_10</th>\n",
       "      <td>53.99</td>\n",
       "      <td>11.40</td>\n",
       "      <td>4.0</td>\n",
       "      <td>20.0</td>\n",
       "    </tr>\n",
       "    <tr>\n",
       "      <th>id_100</th>\n",
       "      <td>14.00</td>\n",
       "      <td>50.85</td>\n",
       "      <td>5.0</td>\n",
       "      <td>26.0</td>\n",
       "    </tr>\n",
       "    <tr>\n",
       "      <th>id_1000</th>\n",
       "      <td>119.99</td>\n",
       "      <td>12.04</td>\n",
       "      <td>5.0</td>\n",
       "      <td>10.0</td>\n",
       "    </tr>\n",
       "    <tr>\n",
       "      <th>id_10000</th>\n",
       "      <td>169.90</td>\n",
       "      <td>12.39</td>\n",
       "      <td>4.0</td>\n",
       "      <td>14.0</td>\n",
       "    </tr>\n",
       "    <tr>\n",
       "      <th>...</th>\n",
       "      <td>...</td>\n",
       "      <td>...</td>\n",
       "      <td>...</td>\n",
       "      <td>...</td>\n",
       "    </tr>\n",
       "    <tr>\n",
       "      <th>id_9995</th>\n",
       "      <td>27.99</td>\n",
       "      <td>7.46</td>\n",
       "      <td>4.0</td>\n",
       "      <td>2.0</td>\n",
       "    </tr>\n",
       "    <tr>\n",
       "      <th>id_9996</th>\n",
       "      <td>103.97</td>\n",
       "      <td>25.04</td>\n",
       "      <td>4.0</td>\n",
       "      <td>20.0</td>\n",
       "    </tr>\n",
       "    <tr>\n",
       "      <th>id_9997</th>\n",
       "      <td>89.18</td>\n",
       "      <td>12.96</td>\n",
       "      <td>1.0</td>\n",
       "      <td>24.0</td>\n",
       "    </tr>\n",
       "    <tr>\n",
       "      <th>id_9998</th>\n",
       "      <td>75.00</td>\n",
       "      <td>13.08</td>\n",
       "      <td>1.0</td>\n",
       "      <td>13.0</td>\n",
       "    </tr>\n",
       "    <tr>\n",
       "      <th>id_9999</th>\n",
       "      <td>118.00</td>\n",
       "      <td>18.71</td>\n",
       "      <td>5.0</td>\n",
       "      <td>38.0</td>\n",
       "    </tr>\n",
       "  </tbody>\n",
       "</table>\n",
       "<p>99441 rows × 4 columns</p>\n",
       "</div>"
      ],
      "text/plain": [
       "              price  freight_value  review_score  delivery_period\n",
       "customer_id                                                      \n",
       "id_1          58.90          13.29           5.0             15.0\n",
       "id_10         53.99          11.40           4.0             20.0\n",
       "id_100        14.00          50.85           5.0             26.0\n",
       "id_1000      119.99          12.04           5.0             10.0\n",
       "id_10000     169.90          12.39           4.0             14.0\n",
       "...             ...            ...           ...              ...\n",
       "id_9995       27.99           7.46           4.0              2.0\n",
       "id_9996      103.97          25.04           4.0             20.0\n",
       "id_9997       89.18          12.96           1.0             24.0\n",
       "id_9998       75.00          13.08           1.0             13.0\n",
       "id_9999      118.00          18.71           5.0             38.0\n",
       "\n",
       "[99441 rows x 4 columns]"
      ]
     },
     "execution_count": 31,
     "metadata": {},
     "output_type": "execute_result"
    }
   ],
   "source": [
    "iro_dfg2"
   ]
  },
  {
   "cell_type": "code",
   "execution_count": 33,
   "metadata": {},
   "outputs": [
    {
     "data": {
      "text/html": [
       "<div>\n",
       "<style scoped>\n",
       "    .dataframe tbody tr th:only-of-type {\n",
       "        vertical-align: middle;\n",
       "    }\n",
       "\n",
       "    .dataframe tbody tr th {\n",
       "        vertical-align: top;\n",
       "    }\n",
       "\n",
       "    .dataframe thead th {\n",
       "        text-align: right;\n",
       "    }\n",
       "</style>\n",
       "<table border=\"1\" class=\"dataframe\">\n",
       "  <thead>\n",
       "    <tr style=\"text-align: right;\">\n",
       "      <th></th>\n",
       "      <th>구매횟수</th>\n",
       "    </tr>\n",
       "  </thead>\n",
       "  <tbody>\n",
       "    <tr>\n",
       "      <th>id_34717</th>\n",
       "      <td>22</td>\n",
       "    </tr>\n",
       "    <tr>\n",
       "      <th>id_50138</th>\n",
       "      <td>21</td>\n",
       "    </tr>\n",
       "    <tr>\n",
       "      <th>id_10460</th>\n",
       "      <td>20</td>\n",
       "    </tr>\n",
       "    <tr>\n",
       "      <th>id_65716</th>\n",
       "      <td>20</td>\n",
       "    </tr>\n",
       "    <tr>\n",
       "      <th>id_25584</th>\n",
       "      <td>15</td>\n",
       "    </tr>\n",
       "    <tr>\n",
       "      <th>...</th>\n",
       "      <td>...</td>\n",
       "    </tr>\n",
       "    <tr>\n",
       "      <th>id_35001</th>\n",
       "      <td>1</td>\n",
       "    </tr>\n",
       "    <tr>\n",
       "      <th>id_35000</th>\n",
       "      <td>1</td>\n",
       "    </tr>\n",
       "    <tr>\n",
       "      <th>id_34999</th>\n",
       "      <td>1</td>\n",
       "    </tr>\n",
       "    <tr>\n",
       "      <th>id_34998</th>\n",
       "      <td>1</td>\n",
       "    </tr>\n",
       "    <tr>\n",
       "      <th>id_99441</th>\n",
       "      <td>1</td>\n",
       "    </tr>\n",
       "  </tbody>\n",
       "</table>\n",
       "<p>99441 rows × 1 columns</p>\n",
       "</div>"
      ],
      "text/plain": [
       "          구매횟수\n",
       "id_34717    22\n",
       "id_50138    21\n",
       "id_10460    20\n",
       "id_65716    20\n",
       "id_25584    15\n",
       "...        ...\n",
       "id_35001     1\n",
       "id_35000     1\n",
       "id_34999     1\n",
       "id_34998     1\n",
       "id_99441     1\n",
       "\n",
       "[99441 rows x 1 columns]"
      ]
     },
     "execution_count": 33,
     "metadata": {},
     "output_type": "execute_result"
    }
   ],
   "source": [
    "count = pd.DataFrame(iro_df[\"customer_id\"].value_counts())\n",
    "count = count.rename(columns= {\"customer_id\":'구매횟수'})\n",
    "count"
   ]
  },
  {
   "cell_type": "code",
   "execution_count": 34,
   "metadata": {},
   "outputs": [],
   "source": [
    "iro_dfgj = iro_dfg2.join(count, how = 'outer').sort_values(\"구매횟수\", ascending = False)"
   ]
  },
  {
   "cell_type": "code",
   "execution_count": 35,
   "metadata": {},
   "outputs": [
    {
     "data": {
      "text/html": [
       "<div>\n",
       "<style scoped>\n",
       "    .dataframe tbody tr th:only-of-type {\n",
       "        vertical-align: middle;\n",
       "    }\n",
       "\n",
       "    .dataframe tbody tr th {\n",
       "        vertical-align: top;\n",
       "    }\n",
       "\n",
       "    .dataframe thead th {\n",
       "        text-align: right;\n",
       "    }\n",
       "</style>\n",
       "<table border=\"1\" class=\"dataframe\">\n",
       "  <thead>\n",
       "    <tr style=\"text-align: right;\">\n",
       "      <th></th>\n",
       "      <th>price</th>\n",
       "      <th>freight_value</th>\n",
       "      <th>review_score</th>\n",
       "      <th>delivery_period</th>\n",
       "      <th>구매횟수</th>\n",
       "    </tr>\n",
       "  </thead>\n",
       "  <tbody>\n",
       "    <tr>\n",
       "      <th>id_34717</th>\n",
       "      <td>65.007273</td>\n",
       "      <td>12.623636</td>\n",
       "      <td>1.0</td>\n",
       "      <td>16.0</td>\n",
       "      <td>22</td>\n",
       "    </tr>\n",
       "    <tr>\n",
       "      <th>id_50138</th>\n",
       "      <td>1.514286</td>\n",
       "      <td>7.827143</td>\n",
       "      <td>1.0</td>\n",
       "      <td>11.0</td>\n",
       "      <td>21</td>\n",
       "    </tr>\n",
       "    <tr>\n",
       "      <th>id_65716</th>\n",
       "      <td>98.700000</td>\n",
       "      <td>14.440000</td>\n",
       "      <td>NaN</td>\n",
       "      <td>28.0</td>\n",
       "      <td>20</td>\n",
       "    </tr>\n",
       "    <tr>\n",
       "      <th>id_10460</th>\n",
       "      <td>100.000000</td>\n",
       "      <td>10.120000</td>\n",
       "      <td>1.0</td>\n",
       "      <td>13.0</td>\n",
       "      <td>20</td>\n",
       "    </tr>\n",
       "    <tr>\n",
       "      <th>id_60942</th>\n",
       "      <td>51.000000</td>\n",
       "      <td>1.200000</td>\n",
       "      <td>5.0</td>\n",
       "      <td>35.0</td>\n",
       "      <td>15</td>\n",
       "    </tr>\n",
       "    <tr>\n",
       "      <th>...</th>\n",
       "      <td>...</td>\n",
       "      <td>...</td>\n",
       "      <td>...</td>\n",
       "      <td>...</td>\n",
       "      <td>...</td>\n",
       "    </tr>\n",
       "    <tr>\n",
       "      <th>id_41513</th>\n",
       "      <td>399.000000</td>\n",
       "      <td>29.740000</td>\n",
       "      <td>4.0</td>\n",
       "      <td>15.0</td>\n",
       "      <td>1</td>\n",
       "    </tr>\n",
       "    <tr>\n",
       "      <th>id_41512</th>\n",
       "      <td>199.000000</td>\n",
       "      <td>32.140000</td>\n",
       "      <td>4.0</td>\n",
       "      <td>21.0</td>\n",
       "      <td>1</td>\n",
       "    </tr>\n",
       "    <tr>\n",
       "      <th>id_41511</th>\n",
       "      <td>32.640000</td>\n",
       "      <td>10.960000</td>\n",
       "      <td>5.0</td>\n",
       "      <td>27.0</td>\n",
       "      <td>1</td>\n",
       "    </tr>\n",
       "    <tr>\n",
       "      <th>id_41510</th>\n",
       "      <td>95.000000</td>\n",
       "      <td>13.330000</td>\n",
       "      <td>5.0</td>\n",
       "      <td>17.0</td>\n",
       "      <td>1</td>\n",
       "    </tr>\n",
       "    <tr>\n",
       "      <th>id_9999</th>\n",
       "      <td>118.000000</td>\n",
       "      <td>18.710000</td>\n",
       "      <td>5.0</td>\n",
       "      <td>38.0</td>\n",
       "      <td>1</td>\n",
       "    </tr>\n",
       "  </tbody>\n",
       "</table>\n",
       "<p>99441 rows × 5 columns</p>\n",
       "</div>"
      ],
      "text/plain": [
       "               price  freight_value  review_score  delivery_period  구매횟수\n",
       "id_34717   65.007273      12.623636           1.0             16.0    22\n",
       "id_50138    1.514286       7.827143           1.0             11.0    21\n",
       "id_65716   98.700000      14.440000           NaN             28.0    20\n",
       "id_10460  100.000000      10.120000           1.0             13.0    20\n",
       "id_60942   51.000000       1.200000           5.0             35.0    15\n",
       "...              ...            ...           ...              ...   ...\n",
       "id_41513  399.000000      29.740000           4.0             15.0     1\n",
       "id_41512  199.000000      32.140000           4.0             21.0     1\n",
       "id_41511   32.640000      10.960000           5.0             27.0     1\n",
       "id_41510   95.000000      13.330000           5.0             17.0     1\n",
       "id_9999   118.000000      18.710000           5.0             38.0     1\n",
       "\n",
       "[99441 rows x 5 columns]"
      ]
     },
     "execution_count": 35,
     "metadata": {},
     "output_type": "execute_result"
    }
   ],
   "source": [
    "iro_dfgj"
   ]
  },
  {
   "cell_type": "code",
   "execution_count": 36,
   "metadata": {},
   "outputs": [
    {
     "data": {
      "text/plain": [
       "<AxesSubplot: xlabel='구매횟수', ylabel='review_score'>"
      ]
     },
     "execution_count": 36,
     "metadata": {},
     "output_type": "execute_result"
    },
    {
     "data": {
      "image/png": "[encoded data removed]",
      "text/plain": [
       "<Figure size 640x480 with 1 Axes>"
      ]
     },
     "metadata": {
      "image/png": {
       "height": 430,
       "width": 552
      }
     },
     "output_type": "display_data"
    }
   ],
   "source": [
    "sns.barplot(data = iro_dfgj, x = '구매횟수', y =\"review_score\")"
   ]
  }
 ],
 "metadata": {
  "kernelspec": {
   "display_name": "lion",
   "language": "python",
   "name": "python3"
  },
  "language_info": {
   "codemirror_mode": {
    "name": "ipython",
    "version": 3
   },
   "file_extension": ".py",
   "mimetype": "text/x-python",
   "name": "python",
   "nbconvert_exporter": "python",
   "pygments_lexer": "ipython3",
   "version": "3.9.15 | packaged by conda-forge | (main, Nov 22 2022, 08:52:10) \n[Clang 14.0.6 ]"
  },
  "orig_nbformat": 4,
  "vscode": {
   "interpreter": {
    "hash": "f2535503e00e64e6c766cdaf2522146fb194dd032ceec221dd775fc338c30be3"
   }
  }
 },
 "nbformat": 4,
 "nbformat_minor": 2
}
